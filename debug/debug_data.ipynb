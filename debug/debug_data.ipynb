{
 "cells": [
  {
   "cell_type": "code",
   "execution_count": 1,
   "id": "e4e70b67",
   "metadata": {},
   "outputs": [],
   "source": [
    "import pickle as pkl\n",
    "import json\n",
    "import os\n",
    "import numpy as np"
   ]
  },
  {
   "cell_type": "code",
   "execution_count": 2,
   "id": "0b3a9a0e",
   "metadata": {},
   "outputs": [],
   "source": [
    "import sys\n",
    "sys.path.append(\"/home/ziniuw/zero-shot-cost-estimation\")\n",
    "from cross_db_benchmark.benchmark_tools.parse_run import parse_run\n",
    "from cross_db_benchmark.benchmark_tools.database import DatabaseSystem"
   ]
  },
  {
   "cell_type": "code",
   "execution_count": 6,
   "id": "4b7565a7",
   "metadata": {},
   "outputs": [],
   "source": [
    "db = \"imdb_full\"\n",
    "wl = \"complex_workload_400k_s6_c8220.json\"\n",
    "source = \"/flash1/ziniuw/zero-shot-data/runs/raw/\" + db + \"/\" + wl\n",
    "target = \"/flash1/ziniuw/zero-shot-data/runs/parsed_plans/new_imdb_full/\" + wl\n",
    "parse_baseline = False\n",
    "cap_queries = None\n",
    "#no_plans, stats = parse_run(source, target, DatabaseSystem.POSTGRES, min_query_ms=100, cap_queries=cap_queries,\n",
    "                             #   parse_baseline=parse_baseline, parse_join_conds=True)"
   ]
  },
  {
   "cell_type": "code",
   "execution_count": 7,
   "id": "faac7cc9",
   "metadata": {},
   "outputs": [
    {
     "name": "stdout",
     "output_type": "stream",
     "text": [
      "16904\n"
     ]
    }
   ],
   "source": [
    "parse_files = \"/home/ziniuw/zero-shot-data/runs/parsed_plans/new_imdb_full/\" + wl\n",
    "with open(parse_files, \"r\") as f:\n",
    "    all_info = json.load(f)\n",
    "queries_sql = all_info['sql_queries']\n",
    "print(len(queries_sql))"
   ]
  },
  {
   "cell_type": "code",
   "execution_count": 3,
   "id": "d1e87102",
   "metadata": {},
   "outputs": [],
   "source": [
    "def get_cardinality(q):\n",
    "    ops = q['plan_parameters']['op_name']\n",
    "    if ops in ['Finalize Aggregate', 'Gather', 'Aggregate', \"Partial Aggregate\"]:\n",
    "        return get_cardinality(q[\"children\"][0])\n",
    "    else:\n",
    "        true = q['plan_parameters']['act_card']\n",
    "        est = q['plan_parameters']['est_card']\n",
    "        #if true <= 3:\n",
    "         #   print(f\"{ops} with cardinality {true}\")\n",
    "        return true, est"
   ]
  },
  {
   "cell_type": "code",
   "execution_count": 8,
   "id": "bb104af9",
   "metadata": {},
   "outputs": [],
   "source": [
    "queries = all_info['parsed_plans']"
   ]
  },
  {
   "cell_type": "code",
   "execution_count": 22,
   "id": "55e396fb",
   "metadata": {},
   "outputs": [
    {
     "name": "stdout",
     "output_type": "stream",
     "text": [
      "50722\n",
      "50722\n",
      "50722\n"
     ]
    }
   ],
   "source": [
    "all_query_plans = [] \n",
    "all_queries_sql = []\n",
    "runtimes = []\n",
    "\n",
    "for workload in [\"s4\", \"s5\", \"s6\"]:\n",
    "    file_name = f\"complex_workload_400k_{workload}_c8220.json\"\n",
    "\n",
    "    parse_files = \"/home/ziniuw/zero-shot-data/runs/parsed_plans/new_imdb_full/\" + file_name\n",
    "    with open(parse_files, \"r\") as f:\n",
    "        all_info = json.load(f)\n",
    "    queries = all_info['parsed_plans']\n",
    "    query_sql = all_info['sql_queries']\n",
    "    \n",
    "    for i, q in enumerate(queries):\n",
    "        runtimes.append(q[\"plan_runtime\"])\n",
    "        all_query_plans.append(q)\n",
    "        true, est = get_cardinality(q)\n",
    "        all_queries_sql.append([query_sql[i], true, est, q[\"plan_runtime\"]])\n",
    "\n",
    "print(len(all_query_plans))\n",
    "print(len(runtimes))\n",
    "print(len(all_queries_sql))"
   ]
  },
  {
   "cell_type": "code",
   "execution_count": 23,
   "id": "3f82ed5d",
   "metadata": {},
   "outputs": [
    {
     "data": {
      "text/plain": [
       "2029"
      ]
     },
     "execution_count": 23,
     "metadata": {},
     "output_type": "execute_result"
    }
   ],
   "source": [
    "runtimes = np.asarray(runtimes)\n",
    "idx = np.argsort(runtimes)\n",
    "testing_idx = []\n",
    "for i in range(0, len(runtimes), 25):\n",
    "    testing_idx.append(idx[i])\n",
    "len(testing_idx)"
   ]
  },
  {
   "cell_type": "code",
   "execution_count": 25,
   "id": "4d871747",
   "metadata": {},
   "outputs": [
    {
     "name": "stdout",
     "output_type": "stream",
     "text": [
      "2029\n",
      "48693\n"
     ]
    }
   ],
   "source": [
    "all_queries_testing = [all_queries_sql[i] for i in testing_idx]\n",
    "all_query_plan_testing = [all_query_plans[i] for i in testing_idx]\n",
    "print(len(all_queries_testing))\n",
    "training_idx = [i for i in range(len(all_queries_sql)) if i not in testing_idx]\n",
    "all_queries_training = [all_queries_sql[i] for i in training_idx]\n",
    "all_query_plan_training = [all_query_plans[i] for i in training_idx]\n",
    "print(len(all_queries_training))"
   ]
  },
  {
   "cell_type": "code",
   "execution_count": 26,
   "id": "775fa838",
   "metadata": {},
   "outputs": [],
   "source": [
    "file_name = \"complex_workload_400k_s4_c8220.json\"\n",
    "parse_files = \"/home/ziniuw/zero-shot-data/runs/parsed_plans/imdb_full/\" + file_name\n",
    "with open(parse_files, \"r\") as f:\n",
    "    all_info = json.load(f)\n",
    "queries = all_info['parsed_plans']"
   ]
  },
  {
   "cell_type": "code",
   "execution_count": 27,
   "id": "82156ae6",
   "metadata": {},
   "outputs": [],
   "source": [
    "train_all_info = dict()\n",
    "train_all_info['database_stats'] = all_info['database_stats']\n",
    "train_all_info['run_kwargs'] = all_info['run_kwargs']\n",
    "train_all_info['parsed_plans'] = all_query_plan_training\n",
    "\n",
    "test_all_info = dict()\n",
    "test_all_info['database_stats'] = all_info['database_stats']\n",
    "test_all_info['run_kwargs'] = all_info['run_kwargs']\n",
    "test_all_info['parsed_plans'] = all_query_plan_testing"
   ]
  },
  {
   "cell_type": "code",
   "execution_count": null,
   "id": "e1d50b5c",
   "metadata": {},
   "outputs": [],
   "source": [
    "new_test_parsed_plans = []\n",
    "result_path = \"/flash1/ziniuw/CEB/zero-shot-results/MSCN3118603545/queries/zero-shot-test-preds/\"\n",
    "MSCN_est = dict()\n",
    "for file in os.listdir(result_path):\n",
    "    if file.endswith(\".pkl\"):\n",
    "        query_no = int(file.split(\".pkl\")[0])\n",
    "    new_test_parsed_plans.append(test_parsed_plans[query_no])\n",
    "print(len(new_test_parsed_plans))"
   ]
  },
  {
   "cell_type": "code",
   "execution_count": null,
   "id": "efe6b816",
   "metadata": {},
   "outputs": [],
   "source": [
    "test_all_info['parsed_plans'] = new_test_parsed_plans"
   ]
  },
  {
   "cell_type": "code",
   "execution_count": 28,
   "id": "597729b4",
   "metadata": {},
   "outputs": [],
   "source": [
    "with open('/home/ziniuw/zero-shot-data/runs/parsed_plans/imdb_full/complex_queries_training_50k.json', 'w') as f:\n",
    "    json.dump(train_all_info, f)"
   ]
  },
  {
   "cell_type": "code",
   "execution_count": 29,
   "id": "97d57dfc",
   "metadata": {},
   "outputs": [],
   "source": [
    "with open('/home/ziniuw/zero-shot-data/runs/parsed_plans/imdb_full/complex_queries_testing_2k.json', 'w') as f:\n",
    "    json.dump(test_all_info, f)"
   ]
  },
  {
   "cell_type": "code",
   "execution_count": 30,
   "id": "4d3faebf",
   "metadata": {},
   "outputs": [],
   "source": [
    "with open('/home/ziniuw/zero-shot-data/runs/raw/imdb_full/complex_queries_training_50k.json', 'w') as f:\n",
    "    json.dump(all_queries_training,f)"
   ]
  },
  {
   "cell_type": "code",
   "execution_count": 31,
   "id": "3512a060",
   "metadata": {},
   "outputs": [],
   "source": [
    "with open('/home/ziniuw/zero-shot-data/runs/raw/imdb_full/complex_queries_testing_2k.json', 'w') as f:\n",
    "    json.dump(all_queries_testing,f)"
   ]
  },
  {
   "cell_type": "code",
   "execution_count": null,
   "id": "993eed6b",
   "metadata": {},
   "outputs": [],
   "source": [
    "with open('complex_queries_testing_2k.json') as f:\n",
    "    a = json.load(f)"
   ]
  },
  {
   "cell_type": "code",
   "execution_count": null,
   "id": "6a4bde60",
   "metadata": {},
   "outputs": [],
   "source": []
  }
 ],
 "metadata": {
  "kernelspec": {
   "display_name": "Python 3 (ipykernel)",
   "language": "python",
   "name": "python3"
  },
  "language_info": {
   "codemirror_mode": {
    "name": "ipython",
    "version": 3
   },
   "file_extension": ".py",
   "mimetype": "text/x-python",
   "name": "python",
   "nbconvert_exporter": "python",
   "pygments_lexer": "ipython3",
   "version": "3.9.12"
  }
 },
 "nbformat": 4,
 "nbformat_minor": 5
}
