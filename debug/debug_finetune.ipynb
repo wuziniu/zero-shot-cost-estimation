{
 "cells": [
  {
   "cell_type": "code",
   "execution_count": 1,
   "id": "a0a728e1",
   "metadata": {},
   "outputs": [
    {
     "name": "stderr",
     "output_type": "stream",
     "text": [
      "Using backend: pytorch\n"
     ]
    }
   ],
   "source": [
    "import os\n",
    "import sys\n",
    "import time\n",
    "sys.path.append(\"/home/ziniuw/zero-shot-cost-estimation\")\n",
    "from models.zero_shot_models.specific_models.model import zero_shot_models\n",
    "from cross_db_benchmark.benchmark_tools.database import DatabaseSystem\n",
    "from models.training.train import train_default, train_readout_hyperparams"
   ]
  },
  {
   "cell_type": "code",
   "execution_count": 2,
   "id": "ba5218e1",
   "metadata": {},
   "outputs": [],
   "source": [
    "from copy import copy\n",
    "\n",
    "import numpy as np\n",
    "import optuna\n",
    "import torch\n",
    "import torch.optim as opt\n",
    "from tqdm import tqdm\n",
    "\n",
    "from cross_db_benchmark.benchmark_tools.utils import load_json\n",
    "from models.dataset.dataset_creation import create_dataloader\n",
    "from models.training.checkpoint import save_checkpoint, load_checkpoint, save_csv\n",
    "from models.training.metrics import MAPE, RMSE, QError\n",
    "from models.training.utils import batch_to, flatten_dict, find_early_stopping_metric\n",
    "from models.zero_shot_models.specific_models.model import zero_shot_models\n",
    "\n",
    "def training_model_loader(workload_runs,\n",
    "                test_workload_runs,\n",
    "                statistics_file,\n",
    "                target_dir,\n",
    "                filename_model,\n",
    "                optimizer_class_name='Adam',\n",
    "                optimizer_kwargs=None,\n",
    "                final_mlp_kwargs=None,\n",
    "                node_type_kwargs=None,\n",
    "                model_kwargs=None,\n",
    "                tree_layer_name='GATConv',\n",
    "                tree_layer_kwargs=None,\n",
    "                hidden_dim=32,\n",
    "                batch_size=32,\n",
    "                output_dim=1,\n",
    "                epochs=0,\n",
    "                device='cpu',\n",
    "                plan_featurization_name=None,\n",
    "                max_epoch_tuples=100000,\n",
    "                param_dict=None,\n",
    "                num_workers=1,\n",
    "                early_stopping_patience=20,\n",
    "                trial=None,\n",
    "                database=None,\n",
    "                limit_queries=None,\n",
    "                limit_queries_affected_wl=None,\n",
    "                skip_train=False,\n",
    "                seed=0):\n",
    "    if model_kwargs is None:\n",
    "        model_kwargs = dict()\n",
    "\n",
    "    # seed for reproducibility\n",
    "    torch.manual_seed(seed)\n",
    "    np.random.seed(seed)\n",
    "\n",
    "    target_test_csv_paths = []\n",
    "    if test_workload_runs is not None:\n",
    "        for p in test_workload_runs:\n",
    "            test_workload = os.path.basename(p).replace('.json', '')\n",
    "            target_test_csv_paths.append(os.path.join(target_dir, f'test_{filename_model}_{test_workload}.csv'))\n",
    "\n",
    "    # create a dataset\n",
    "    loss_class_name = final_mlp_kwargs['loss_class_name']\n",
    "    label_norm, feature_statistics, train_loader, val_loader, test_loaders = \\\n",
    "        create_dataloader(workload_runs, test_workload_runs, statistics_file, plan_featurization_name, database,\n",
    "                          val_ratio=0.15, batch_size=batch_size, shuffle=True, num_workers=num_workers,\n",
    "                          pin_memory=False, limit_queries=limit_queries,\n",
    "                          limit_queries_affected_wl=limit_queries_affected_wl, loss_class_name=loss_class_name)\n",
    "\n",
    "    if loss_class_name == 'QLoss':\n",
    "        metrics = [RMSE(), MAPE(), QError(percentile=50, early_stopping_metric=True), QError(percentile=95),\n",
    "                   QError(percentile=100)]\n",
    "    elif loss_class_name == 'MSELoss':\n",
    "        metrics = [RMSE(early_stopping_metric=True), MAPE(), QError(percentile=50), QError(percentile=95),\n",
    "                   QError(percentile=100)]\n",
    "\n",
    "    # create zero shot model dependent on database\n",
    "    model = zero_shot_models[database](device=device, hidden_dim=hidden_dim, final_mlp_kwargs=final_mlp_kwargs,\n",
    "                                       node_type_kwargs=node_type_kwargs, output_dim=output_dim,\n",
    "                                       feature_statistics=feature_statistics, tree_layer_name=tree_layer_name,\n",
    "                                       tree_layer_kwargs=tree_layer_kwargs,\n",
    "                                       plan_featurization_name=plan_featurization_name,\n",
    "                                       label_norm=label_norm,\n",
    "                                       **model_kwargs)\n",
    "    # move to gpu\n",
    "    model = model.to(model.device)\n",
    "    optimizer = opt.__dict__[optimizer_class_name](model.parameters(), **optimizer_kwargs)\n",
    "    csv_stats, epochs_wo_improvement, epoch, model, optimizer, metrics, finished = \\\n",
    "        load_checkpoint(model, target_dir, filename_model, optimizer=optimizer, metrics=metrics, filetype='.pt')\n",
    "    return test_loaders, model\n",
    "\n",
    "def load_model(workload_runs,\n",
    "            test_workload_runs,\n",
    "               statistics_file,\n",
    "               target_dir,\n",
    "               filename_model,\n",
    "               hyperparameter_path,\n",
    "              device='cpu',\n",
    "              max_epoch_tuples=100000,\n",
    "              num_workers=1,\n",
    "              loss_class_name='QLoss',\n",
    "              database=None,\n",
    "              seed=0,\n",
    "              limit_queries=None,\n",
    "              limit_queries_affected_wl=None,\n",
    "              max_no_epochs=None,\n",
    "              skip_train=False\n",
    "              ):\n",
    "    \"\"\"\n",
    "    Reads out hyperparameters and trains model\n",
    "    \"\"\"\n",
    "    print(f\"Reading hyperparameters from {hyperparameter_path}\")\n",
    "    hyperparams = load_json(hyperparameter_path, namespace=False)\n",
    "\n",
    "    p_dropout = hyperparams.pop('p_dropout')\n",
    "    # general fc out\n",
    "    fc_out_kwargs = dict(p_dropout=p_dropout,\n",
    "                         activation_class_name='LeakyReLU',\n",
    "                         activation_class_kwargs={},\n",
    "                         norm_class_name='Identity',\n",
    "                         norm_class_kwargs={},\n",
    "                         residual=hyperparams.pop('residual'),\n",
    "                         dropout=hyperparams.pop('dropout'),\n",
    "                         activation=True,\n",
    "                         inplace=True)\n",
    "    final_mlp_kwargs = dict(width_factor=hyperparams.pop('final_width_factor'),\n",
    "                            n_layers=hyperparams.pop('final_layers'),\n",
    "                            loss_class_name=loss_class_name,\n",
    "                            loss_class_kwargs=dict())\n",
    "    tree_layer_kwargs = dict(width_factor=hyperparams.pop('tree_layer_width_factor'),\n",
    "                             n_layers=hyperparams.pop('message_passing_layers'))\n",
    "    node_type_kwargs = dict(width_factor=hyperparams.pop('node_type_width_factor'),\n",
    "                            n_layers=hyperparams.pop('node_layers'),\n",
    "                            one_hot_embeddings=True,\n",
    "                            max_emb_dim=hyperparams.pop('max_emb_dim'),\n",
    "                            drop_whole_embeddings=False)\n",
    "    final_mlp_kwargs.update(**fc_out_kwargs)\n",
    "    tree_layer_kwargs.update(**fc_out_kwargs)\n",
    "    node_type_kwargs.update(**fc_out_kwargs)\n",
    "\n",
    "    train_kwargs = dict(optimizer_class_name='AdamW',\n",
    "                        optimizer_kwargs=dict(\n",
    "                            lr=hyperparams.pop('lr'),\n",
    "                        ),\n",
    "                        final_mlp_kwargs=final_mlp_kwargs,\n",
    "                        node_type_kwargs=node_type_kwargs,\n",
    "                        tree_layer_kwargs=tree_layer_kwargs,\n",
    "                        tree_layer_name=hyperparams.pop('tree_layer_name'),\n",
    "                        plan_featurization_name=hyperparams.pop('plan_featurization_name'),\n",
    "                        hidden_dim=hyperparams.pop('hidden_dim'),\n",
    "                        output_dim=1,\n",
    "                        epochs=200 if max_no_epochs is None else max_no_epochs,\n",
    "                        early_stopping_patience=20,\n",
    "                        max_epoch_tuples=max_epoch_tuples,\n",
    "                        batch_size=hyperparams.pop('batch_size'),\n",
    "                        device=device,\n",
    "                        num_workers=num_workers,\n",
    "                        seed=seed,\n",
    "                        limit_queries=limit_queries,\n",
    "                        limit_queries_affected_wl=limit_queries_affected_wl,\n",
    "                        skip_train=skip_train\n",
    "                        )\n",
    "\n",
    "    assert len(hyperparams) == 0, f\"Not all hyperparams were used (not used: {hyperparams.keys()}). Hence generation \" \\\n",
    "                                  f\"and reading does not seem to fit\"\n",
    "\n",
    "    param_dict = flatten_dict(train_kwargs)\n",
    "    \n",
    "    test_loaders, model = training_model_loader(workload_runs, test_workload_runs, statistics_file, target_dir, filename_model, \n",
    "                          param_dict=param_dict, database=database, **train_kwargs)\n",
    "    \n",
    "    return test_loaders, model\n",
    "\n",
    "def validate_model(val_loader, model, epoch=0, epoch_stats=None, metrics=None, max_epoch_tuples=None,\n",
    "                   custom_batch_to=batch_to, verbose=False, log_all_queries=False):\n",
    "    model.eval()\n",
    "\n",
    "    with torch.autograd.no_grad():\n",
    "        val_loss = torch.Tensor([0])\n",
    "        labels = []\n",
    "        preds = []\n",
    "        probs = []\n",
    "        sample_idxs = []\n",
    "\n",
    "        # evaluate test set using model\n",
    "        test_start_t = time.perf_counter()\n",
    "        val_num_tuples = 0\n",
    "        for batch_idx, batch in enumerate(tqdm(val_loader)):\n",
    "            if max_epoch_tuples is not None and batch_idx * val_loader.batch_size > max_epoch_tuples:\n",
    "                break\n",
    "\n",
    "            val_num_tuples += val_loader.batch_size\n",
    "\n",
    "            input_model, label, sample_idxs_batch = custom_batch_to(batch, model.device, model.label_norm)\n",
    "            sample_idxs += sample_idxs_batch\n",
    "            output = model(input_model)\n",
    "\n",
    "            # sum up mean batch losses\n",
    "            val_loss += model.loss_fxn(output, label).cpu()\n",
    "\n",
    "            # inverse transform the predictions and labels\n",
    "            curr_pred = output.cpu().numpy()\n",
    "            curr_label = label.cpu().numpy()\n",
    "            if model.label_norm is not None:\n",
    "                curr_pred = model.label_norm.inverse_transform(curr_pred)\n",
    "                curr_label = model.label_norm.inverse_transform(curr_label.reshape(-1, 1))\n",
    "                curr_label = curr_label.reshape(-1)\n",
    "           \n",
    "            preds.append(curr_pred.reshape(-1))\n",
    "            labels.append(curr_label.reshape(-1))\n",
    "\n",
    "        if epoch_stats is not None:\n",
    "            epoch_stats.update(val_time=time.perf_counter() - test_start_t)\n",
    "            epoch_stats.update(val_num_tuples=val_num_tuples)\n",
    "            val_loss = (val_loss.cpu() / len(val_loader)).item()\n",
    "            print(f'val_loss epoch {epoch}: {val_loss}')\n",
    "            epoch_stats.update(val_loss=val_loss)\n",
    "\n",
    "        labels = np.concatenate(labels, axis=0)\n",
    "        preds = np.concatenate(preds, axis=0)\n",
    "        return labels, preds"
   ]
  },
  {
   "cell_type": "code",
   "execution_count": 3,
   "id": "7c901f2e",
   "metadata": {},
   "outputs": [
    {
     "name": "stdout",
     "output_type": "stream",
     "text": [
      "Reading hyperparameters from /home/ziniuw/zero-shot-cost-estimation/setup/tuned_hyperparameters/tune_best_config.json\n",
      "No of Plans: 50722\n",
      "No of Plans: 77\n",
      "Successfully loaded checkpoint from epoch 85 (85 csv rows) in 0.064 secs\n"
     ]
    }
   ],
   "source": [
    "database = DatabaseSystem.POSTGRES\n",
    "workload_runs = [\"../zero-shot-data/runs/parsed_plans/imdb_full/complex_workload_400k_s4_c8220.json\",\n",
    "                 \"../zero-shot-data/runs/parsed_plans/imdb_full/complex_workload_400k_s5_c8220.json\", \n",
    "                 \"../zero-shot-data/runs/parsed_plans/imdb_full/complex_workload_400k_s6_c8220.json\"]\n",
    "test_workload_runs = [\"../zero-shot-data/runs/parsed_plans/imdb_full/job_full_c8220.json\"]\n",
    "statistics_file = \"../zero-shot-data/runs/parsed_plans/statistics_workload_combined.json\"\n",
    "target_dir = \"../zero-shot-data/evaluation/job_full_tune/\"\n",
    "filename_model = \"imdb_full_0\"\n",
    "hyperparameter_path = \"/home/ziniuw/zero-shot-cost-estimation/setup/tuned_hyperparameters/tune_best_config.json\"\n",
    "limit_queries = 1000\n",
    "ft_filename_model = filename_model + f\"_ft_{limit_queries}\"\n",
    "\n",
    "test_loaders, model = load_model(workload_runs, test_workload_runs, statistics_file, target_dir, filename_model, \n",
    "                  hyperparameter_path, database=database)"
   ]
  },
  {
   "cell_type": "code",
   "execution_count": 4,
   "id": "2a4edd9e",
   "metadata": {},
   "outputs": [
    {
     "name": "stderr",
     "output_type": "stream",
     "text": [
      "100%|█████████████████████████████████████████████| 1/1 [00:01<00:00,  1.06s/it]"
     ]
    },
    {
     "name": "stdout",
     "output_type": "stream",
     "text": [
      "performance without finetuning:\n",
      "1.2624925374984741\n",
      "2.1067908763885503\n",
      "2.556484699249268\n",
      "6.628351116180374\n",
      "13.535557746887207\n"
     ]
    },
    {
     "name": "stderr",
     "output_type": "stream",
     "text": [
      "\n"
     ]
    }
   ],
   "source": [
    "true, pred = validate_model(test_loaders[0], model)\n",
    "qerror = np.maximum(true/pred, pred/true)\n",
    "print(\"performance without finetuning:\")\n",
    "for i in [50, 90, 95, 99, 100]:\n",
    "    print(np.percentile(qerror, i))"
   ]
  },
  {
   "cell_type": "code",
   "execution_count": 7,
   "id": "218f7d14",
   "metadata": {},
   "outputs": [
    {
     "name": "stdout",
     "output_type": "stream",
     "text": [
      "Reading hyperparameters from /home/ziniuw/zero-shot-cost-estimation/setup/tuned_hyperparameters/tune_est_best_config.json\n",
      "Capping workload ../zero-shot-data/runs/parsed_plans/imdb_full/complex_workload_400k_s4_c8220.json after 333 queries\n",
      "Stopping now\n",
      "Capping workload ../zero-shot-data/runs/parsed_plans/imdb_full/complex_workload_400k_s5_c8220.json after 333 queries\n",
      "Stopping now\n",
      "Capping workload ../zero-shot-data/runs/parsed_plans/imdb_full/complex_workload_400k_s6_c8220.json after 333 queries\n",
      "Stopping now\n",
      "No of Plans: 1005\n",
      "No of Plans: 77\n",
      "PostgresZeroShotModel(\n",
      "  (loss_fxn): QLoss()\n",
      "  (fcout): Sequential(\n",
      "    (0): FcLayer(\n",
      "      (layers): Sequential(\n",
      "        (0): Linear(in_features=128, out_features=192, bias=True)\n",
      "        (1): LeakyReLU(negative_slope=0.01, inplace=True)\n",
      "      )\n",
      "    )\n",
      "    (1): FcLayer(\n",
      "      (layers): Sequential(\n",
      "        (0): Linear(in_features=192, out_features=192, bias=True)\n",
      "        (1): LeakyReLU(negative_slope=0.01, inplace=True)\n",
      "      )\n",
      "    )\n",
      "    (2): FcLayer(\n",
      "      (layers): Sequential(\n",
      "        (0): Linear(in_features=192, out_features=192, bias=True)\n",
      "        (1): LeakyReLU(negative_slope=0.01, inplace=True)\n",
      "      )\n",
      "    )\n",
      "    (3): FcLayer(\n",
      "      (layers): Sequential(\n",
      "        (0): Linear(in_features=192, out_features=192, bias=True)\n",
      "        (1): LeakyReLU(negative_slope=0.01, inplace=True)\n",
      "      )\n",
      "    )\n",
      "    (4): FcLayer(\n",
      "      (layers): Sequential(\n",
      "        (0): Linear(in_features=192, out_features=1, bias=True)\n",
      "        (1): LeakyReLU(negative_slope=0.01, inplace=True)\n",
      "      )\n",
      "    )\n",
      "  )\n",
      "  (tree_models): ModuleDict(\n",
      "    (column_output_column): MscnConv(\n",
      "      (fcout): Sequential(\n",
      "        (0): FcLayer(\n",
      "          (layers): Sequential(\n",
      "            (0): Linear(in_features=256, out_features=153, bias=True)\n",
      "            (1): LeakyReLU(negative_slope=0.01, inplace=True)\n",
      "          )\n",
      "        )\n",
      "        (1): FcLayer(\n",
      "          (layers): Sequential(\n",
      "            (0): Linear(in_features=153, out_features=153, bias=True)\n",
      "            (1): LeakyReLU(negative_slope=0.01, inplace=True)\n",
      "          )\n",
      "        )\n",
      "        (2): FcLayer(\n",
      "          (layers): Sequential(\n",
      "            (0): Linear(in_features=153, out_features=128, bias=True)\n",
      "            (1): LeakyReLU(negative_slope=0.01, inplace=True)\n",
      "          )\n",
      "        )\n",
      "      )\n",
      "    )\n",
      "    (to_plan): MscnConv(\n",
      "      (fcout): Sequential(\n",
      "        (0): FcLayer(\n",
      "          (layers): Sequential(\n",
      "            (0): Linear(in_features=256, out_features=153, bias=True)\n",
      "            (1): LeakyReLU(negative_slope=0.01, inplace=True)\n",
      "          )\n",
      "        )\n",
      "        (1): FcLayer(\n",
      "          (layers): Sequential(\n",
      "            (0): Linear(in_features=153, out_features=153, bias=True)\n",
      "            (1): LeakyReLU(negative_slope=0.01, inplace=True)\n",
      "          )\n",
      "        )\n",
      "        (2): FcLayer(\n",
      "          (layers): Sequential(\n",
      "            (0): Linear(in_features=153, out_features=128, bias=True)\n",
      "            (1): LeakyReLU(negative_slope=0.01, inplace=True)\n",
      "          )\n",
      "        )\n",
      "      )\n",
      "    )\n",
      "    (intra_plan): MscnConv(\n",
      "      (fcout): Sequential(\n",
      "        (0): FcLayer(\n",
      "          (layers): Sequential(\n",
      "            (0): Linear(in_features=256, out_features=153, bias=True)\n",
      "            (1): LeakyReLU(negative_slope=0.01, inplace=True)\n",
      "          )\n",
      "        )\n",
      "        (1): FcLayer(\n",
      "          (layers): Sequential(\n",
      "            (0): Linear(in_features=153, out_features=153, bias=True)\n",
      "            (1): LeakyReLU(negative_slope=0.01, inplace=True)\n",
      "          )\n",
      "        )\n",
      "        (2): FcLayer(\n",
      "          (layers): Sequential(\n",
      "            (0): Linear(in_features=153, out_features=128, bias=True)\n",
      "            (1): LeakyReLU(negative_slope=0.01, inplace=True)\n",
      "          )\n",
      "        )\n",
      "      )\n",
      "    )\n",
      "    (intra_pred): MscnConv(\n",
      "      (fcout): Sequential(\n",
      "        (0): FcLayer(\n",
      "          (layers): Sequential(\n",
      "            (0): Linear(in_features=256, out_features=153, bias=True)\n",
      "            (1): LeakyReLU(negative_slope=0.01, inplace=True)\n",
      "          )\n",
      "        )\n",
      "        (1): FcLayer(\n",
      "          (layers): Sequential(\n",
      "            (0): Linear(in_features=153, out_features=153, bias=True)\n",
      "            (1): LeakyReLU(negative_slope=0.01, inplace=True)\n",
      "          )\n",
      "        )\n",
      "        (2): FcLayer(\n",
      "          (layers): Sequential(\n",
      "            (0): Linear(in_features=153, out_features=128, bias=True)\n",
      "            (1): LeakyReLU(negative_slope=0.01, inplace=True)\n",
      "          )\n",
      "        )\n",
      "      )\n",
      "    )\n",
      "  )\n",
      "  (node_type_encoders): ModuleDict(\n",
      "    (column): NodeTypeEncoder(\n",
      "      (fcout): Sequential(\n",
      "        (0): FcLayer(\n",
      "          (layers): Sequential(\n",
      "            (0): Linear(in_features=14, out_features=21, bias=True)\n",
      "            (1): LeakyReLU(negative_slope=0.01, inplace=True)\n",
      "          )\n",
      "        )\n",
      "        (1): FcLayer(\n",
      "          (layers): Sequential(\n",
      "            (0): Linear(in_features=21, out_features=21, bias=True)\n",
      "            (1): LeakyReLU(negative_slope=0.01, inplace=True)\n",
      "          )\n",
      "        )\n",
      "        (2): FcLayer(\n",
      "          (layers): Sequential(\n",
      "            (0): Linear(in_features=21, out_features=21, bias=True)\n",
      "            (1): LeakyReLU(negative_slope=0.01, inplace=True)\n",
      "          )\n",
      "        )\n",
      "        (3): FcLayer(\n",
      "          (layers): Sequential(\n",
      "            (0): Linear(in_features=21, out_features=21, bias=True)\n",
      "            (1): LeakyReLU(negative_slope=0.01, inplace=True)\n",
      "          )\n",
      "        )\n",
      "        (4): FcLayer(\n",
      "          (layers): Sequential(\n",
      "            (0): Linear(in_features=21, out_features=128, bias=True)\n",
      "            (1): LeakyReLU(negative_slope=0.01, inplace=True)\n",
      "          )\n",
      "        )\n",
      "      )\n",
      "      (embeddings): ModuleDict(\n",
      "        (data_type): EmbeddingInitializer(\n",
      "          (embed): Embedding(10, 10)\n",
      "          (do): Dropout(p=0.0, inplace=False)\n",
      "        )\n",
      "      )\n",
      "    )\n",
      "    (table): NodeTypeEncoder(\n",
      "      (fcout): Sequential(\n",
      "        (0): FcLayer(\n",
      "          (layers): Sequential(\n",
      "            (0): Linear(in_features=2, out_features=3, bias=True)\n",
      "            (1): LeakyReLU(negative_slope=0.01, inplace=True)\n",
      "          )\n",
      "        )\n",
      "        (1): FcLayer(\n",
      "          (layers): Sequential(\n",
      "            (0): Linear(in_features=3, out_features=3, bias=True)\n",
      "            (1): LeakyReLU(negative_slope=0.01, inplace=True)\n",
      "          )\n",
      "        )\n",
      "        (2): FcLayer(\n",
      "          (layers): Sequential(\n",
      "            (0): Linear(in_features=3, out_features=3, bias=True)\n",
      "            (1): LeakyReLU(negative_slope=0.01, inplace=True)\n",
      "          )\n",
      "        )\n",
      "        (3): FcLayer(\n",
      "          (layers): Sequential(\n",
      "            (0): Linear(in_features=3, out_features=3, bias=True)\n",
      "            (1): LeakyReLU(negative_slope=0.01, inplace=True)\n",
      "          )\n",
      "        )\n",
      "        (4): FcLayer(\n",
      "          (layers): Sequential(\n",
      "            (0): Linear(in_features=3, out_features=128, bias=True)\n",
      "            (1): LeakyReLU(negative_slope=0.01, inplace=True)\n",
      "          )\n",
      "        )\n",
      "      )\n",
      "      (embeddings): ModuleDict()\n",
      "    )\n",
      "    (output_column): NodeTypeEncoder(\n",
      "      (fcout): Sequential(\n",
      "        (0): FcLayer(\n",
      "          (layers): Sequential(\n",
      "            (0): Linear(in_features=6, out_features=9, bias=True)\n",
      "            (1): LeakyReLU(negative_slope=0.01, inplace=True)\n",
      "          )\n",
      "        )\n",
      "        (1): FcLayer(\n",
      "          (layers): Sequential(\n",
      "            (0): Linear(in_features=9, out_features=9, bias=True)\n",
      "            (1): LeakyReLU(negative_slope=0.01, inplace=True)\n",
      "          )\n",
      "        )\n",
      "        (2): FcLayer(\n",
      "          (layers): Sequential(\n",
      "            (0): Linear(in_features=9, out_features=9, bias=True)\n",
      "            (1): LeakyReLU(negative_slope=0.01, inplace=True)\n",
      "          )\n",
      "        )\n",
      "        (3): FcLayer(\n",
      "          (layers): Sequential(\n",
      "            (0): Linear(in_features=9, out_features=9, bias=True)\n",
      "            (1): LeakyReLU(negative_slope=0.01, inplace=True)\n",
      "          )\n",
      "        )\n",
      "        (4): FcLayer(\n",
      "          (layers): Sequential(\n",
      "            (0): Linear(in_features=9, out_features=128, bias=True)\n",
      "            (1): LeakyReLU(negative_slope=0.01, inplace=True)\n",
      "          )\n",
      "        )\n",
      "      )\n",
      "      (embeddings): ModuleDict(\n",
      "        (aggregation): EmbeddingInitializer(\n",
      "          (embed): Embedding(6, 6)\n",
      "          (do): Dropout(p=0.0, inplace=False)\n",
      "        )\n",
      "      )\n",
      "    )\n",
      "    (filter_column): NodeTypeEncoder(\n",
      "      (fcout): Sequential(\n",
      "        (0): FcLayer(\n",
      "          (layers): Sequential(\n",
      "            (0): Linear(in_features=26, out_features=39, bias=True)\n",
      "            (1): LeakyReLU(negative_slope=0.01, inplace=True)\n",
      "          )\n",
      "        )\n",
      "        (1): FcLayer(\n",
      "          (layers): Sequential(\n",
      "            (0): Linear(in_features=39, out_features=39, bias=True)\n",
      "            (1): LeakyReLU(negative_slope=0.01, inplace=True)\n",
      "          )\n",
      "        )\n",
      "        (2): FcLayer(\n",
      "          (layers): Sequential(\n",
      "            (0): Linear(in_features=39, out_features=39, bias=True)\n",
      "            (1): LeakyReLU(negative_slope=0.01, inplace=True)\n",
      "          )\n",
      "        )\n",
      "        (3): FcLayer(\n",
      "          (layers): Sequential(\n",
      "            (0): Linear(in_features=39, out_features=39, bias=True)\n",
      "            (1): LeakyReLU(negative_slope=0.01, inplace=True)\n",
      "          )\n",
      "        )\n",
      "        (4): FcLayer(\n",
      "          (layers): Sequential(\n",
      "            (0): Linear(in_features=39, out_features=128, bias=True)\n",
      "            (1): LeakyReLU(negative_slope=0.01, inplace=True)\n",
      "          )\n",
      "        )\n",
      "      )\n",
      "      (embeddings): ModuleDict(\n",
      "        (operator): EmbeddingInitializer(\n",
      "          (embed): Embedding(11, 11)\n",
      "          (do): Dropout(p=0.0, inplace=False)\n",
      "        )\n",
      "        (data_type): EmbeddingInitializer(\n",
      "          (embed): Embedding(10, 10)\n",
      "          (do): Dropout(p=0.0, inplace=False)\n",
      "        )\n",
      "      )\n",
      "    )\n",
      "    (plan): NodeTypeEncoder(\n",
      "      (fcout): Sequential(\n",
      "        (0): FcLayer(\n",
      "          (layers): Sequential(\n",
      "            (0): Linear(in_features=24, out_features=36, bias=True)\n",
      "            (1): LeakyReLU(negative_slope=0.01, inplace=True)\n",
      "          )\n",
      "        )\n",
      "        (1): FcLayer(\n",
      "          (layers): Sequential(\n",
      "            (0): Linear(in_features=36, out_features=36, bias=True)\n",
      "            (1): LeakyReLU(negative_slope=0.01, inplace=True)\n",
      "          )\n",
      "        )\n",
      "        (2): FcLayer(\n",
      "          (layers): Sequential(\n",
      "            (0): Linear(in_features=36, out_features=36, bias=True)\n",
      "            (1): LeakyReLU(negative_slope=0.01, inplace=True)\n",
      "          )\n",
      "        )\n",
      "        (3): FcLayer(\n",
      "          (layers): Sequential(\n",
      "            (0): Linear(in_features=36, out_features=36, bias=True)\n",
      "            (1): LeakyReLU(negative_slope=0.01, inplace=True)\n",
      "          )\n",
      "        )\n",
      "        (4): FcLayer(\n",
      "          (layers): Sequential(\n",
      "            (0): Linear(in_features=36, out_features=128, bias=True)\n",
      "            (1): LeakyReLU(negative_slope=0.01, inplace=True)\n",
      "          )\n",
      "        )\n",
      "      )\n",
      "      (embeddings): ModuleDict(\n",
      "        (op_name): EmbeddingInitializer(\n",
      "          (embed): Embedding(20, 20)\n",
      "          (do): Dropout(p=0.0, inplace=False)\n",
      "        )\n",
      "      )\n",
      "    )\n",
      "    (logical_pred): NodeTypeEncoder(\n",
      "      (fcout): Sequential(\n",
      "        (0): FcLayer(\n",
      "          (layers): Sequential(\n",
      "            (0): Linear(in_features=12, out_features=18, bias=True)\n",
      "            (1): LeakyReLU(negative_slope=0.01, inplace=True)\n",
      "          )\n",
      "        )\n",
      "        (1): FcLayer(\n",
      "          (layers): Sequential(\n",
      "            (0): Linear(in_features=18, out_features=18, bias=True)\n",
      "            (1): LeakyReLU(negative_slope=0.01, inplace=True)\n",
      "          )\n",
      "        )\n",
      "        (2): FcLayer(\n",
      "          (layers): Sequential(\n",
      "            (0): Linear(in_features=18, out_features=18, bias=True)\n",
      "            (1): LeakyReLU(negative_slope=0.01, inplace=True)\n",
      "          )\n",
      "        )\n",
      "        (3): FcLayer(\n",
      "          (layers): Sequential(\n",
      "            (0): Linear(in_features=18, out_features=18, bias=True)\n",
      "            (1): LeakyReLU(negative_slope=0.01, inplace=True)\n",
      "          )\n",
      "        )\n",
      "        (4): FcLayer(\n",
      "          (layers): Sequential(\n",
      "            (0): Linear(in_features=18, out_features=128, bias=True)\n",
      "            (1): LeakyReLU(negative_slope=0.01, inplace=True)\n",
      "          )\n",
      "        )\n",
      "      )\n",
      "      (embeddings): ModuleDict(\n",
      "        (operator): EmbeddingInitializer(\n",
      "          (embed): Embedding(11, 11)\n",
      "          (do): Dropout(p=0.0, inplace=False)\n",
      "        )\n",
      "      )\n",
      "    )\n",
      "  )\n",
      ")\n",
      "Successfully loaded checkpoint from epoch 5 (5 csv rows) in 0.059 secs\n",
      "Epoch 5\n"
     ]
    },
    {
     "name": "stderr",
     "output_type": "stream",
     "text": [
      "100%|█████████████████████████████████████████████| 4/4 [00:01<00:00,  2.26it/s]\n",
      "100%|█████████████████████████████████████████████| 1/1 [00:00<00:00,  1.03it/s]\n"
     ]
    },
    {
     "name": "stdout",
     "output_type": "stream",
     "text": [
      "val_loss epoch 5: 0.8347772359848022\n",
      "val_mse: 10.6745 [best: 6.5581]\n",
      "val_mape: 2.1939 [best: 2.8307]\n",
      "val_median_q_error_50: 2.1982 [best: 2.2543]\n",
      "New best model for val_median_q_error_50\n",
      "val_median_q_error_95: 10.6802 [best: 11.3514]\n",
      "val_median_q_error_100: 18.4472 [best: 21.8811]\n",
      "epochs_wo_improvement: 0\n",
      "Saved checkpoint to ../zero-shot-data/evaluation/job_full_tune/imdb_full_0_pg_est_ft_1000.pt in 0.065 secs\n",
      "Epoch 6\n"
     ]
    },
    {
     "name": "stderr",
     "output_type": "stream",
     "text": [
      "100%|█████████████████████████████████████████████| 4/4 [00:01<00:00,  2.25it/s]\n",
      "100%|█████████████████████████████████████████████| 1/1 [00:00<00:00,  1.02it/s]\n"
     ]
    },
    {
     "name": "stdout",
     "output_type": "stream",
     "text": [
      "val_loss epoch 6: 0.7558313608169556\n",
      "val_mse: 17.7687 [best: 6.5581]\n",
      "val_mape: 1.8009 [best: 2.1939]\n",
      "val_median_q_error_50: 2.1602 [best: 2.1982]\n",
      "New best model for val_median_q_error_50\n",
      "val_median_q_error_95: 10.5310 [best: 10.6802]\n",
      "val_median_q_error_100: 16.3334 [best: 18.4472]\n",
      "epochs_wo_improvement: 0\n",
      "Saved checkpoint to ../zero-shot-data/evaluation/job_full_tune/imdb_full_0_pg_est_ft_1000.pt in 0.061 secs\n",
      "Epoch 7\n"
     ]
    },
    {
     "name": "stderr",
     "output_type": "stream",
     "text": [
      "100%|█████████████████████████████████████████████| 4/4 [00:01<00:00,  2.26it/s]\n",
      "100%|█████████████████████████████████████████████| 1/1 [00:00<00:00,  1.05it/s]\n"
     ]
    },
    {
     "name": "stdout",
     "output_type": "stream",
     "text": [
      "val_loss epoch 7: 0.6428970694541931\n",
      "val_mse: 11.5070 [best: 6.5581]\n",
      "val_mape: 1.0995 [best: 1.8009]\n",
      "val_median_q_error_50: 1.8935 [best: 2.1602]\n",
      "New best model for val_median_q_error_50\n",
      "val_median_q_error_95: 6.2648 [best: 10.5310]\n",
      "val_median_q_error_100: 21.5065 [best: 16.3334]\n",
      "epochs_wo_improvement: 0\n",
      "Saved checkpoint to ../zero-shot-data/evaluation/job_full_tune/imdb_full_0_pg_est_ft_1000.pt in 0.064 secs\n",
      "Epoch 8\n"
     ]
    },
    {
     "name": "stderr",
     "output_type": "stream",
     "text": [
      "100%|█████████████████████████████████████████████| 4/4 [00:01<00:00,  2.19it/s]\n",
      "100%|█████████████████████████████████████████████| 1/1 [00:00<00:00,  1.03it/s]\n"
     ]
    },
    {
     "name": "stdout",
     "output_type": "stream",
     "text": [
      "val_loss epoch 8: 0.6220356225967407\n",
      "val_mse: 9.6421 [best: 6.5581]\n",
      "val_mape: 0.6758 [best: 1.0995]\n",
      "val_median_q_error_50: 1.7587 [best: 1.8935]\n",
      "New best model for val_median_q_error_50\n",
      "val_median_q_error_95: 8.5414 [best: 6.2648]\n",
      "val_median_q_error_100: 35.4329 [best: 16.3334]\n",
      "epochs_wo_improvement: 0\n",
      "Saved checkpoint to ../zero-shot-data/evaluation/job_full_tune/imdb_full_0_pg_est_ft_1000.pt in 0.065 secs\n",
      "Epoch 9\n"
     ]
    },
    {
     "name": "stderr",
     "output_type": "stream",
     "text": [
      "100%|█████████████████████████████████████████████| 4/4 [00:01<00:00,  2.26it/s]\n",
      "100%|█████████████████████████████████████████████| 1/1 [00:00<00:00,  1.01it/s]\n"
     ]
    },
    {
     "name": "stdout",
     "output_type": "stream",
     "text": [
      "val_loss epoch 9: 0.6336520910263062\n",
      "val_mse: 5.8531 [best: 6.5581]\n",
      "val_mape: 0.6021 [best: 0.6758]\n",
      "val_median_q_error_50: 1.7556 [best: 1.7587]\n",
      "New best model for val_median_q_error_50\n",
      "val_median_q_error_95: 6.7735 [best: 6.2648]\n",
      "val_median_q_error_100: 69.7286 [best: 16.3334]\n",
      "epochs_wo_improvement: 0\n",
      "Saved checkpoint to ../zero-shot-data/evaluation/job_full_tune/imdb_full_0_pg_est_ft_1000.pt in 0.064 secs\n",
      "Epoch 10\n"
     ]
    },
    {
     "name": "stderr",
     "output_type": "stream",
     "text": [
      "100%|█████████████████████████████████████████████| 4/4 [00:01<00:00,  2.27it/s]\n",
      "100%|█████████████████████████████████████████████| 1/1 [00:00<00:00,  1.03it/s]\n"
     ]
    },
    {
     "name": "stdout",
     "output_type": "stream",
     "text": [
      "val_loss epoch 10: 0.5453565716743469\n",
      "val_mse: 7.7701 [best: 5.8531]\n",
      "val_mape: 0.8256 [best: 0.6021]\n",
      "val_median_q_error_50: 1.6857 [best: 1.7556]\n",
      "New best model for val_median_q_error_50\n",
      "val_median_q_error_95: 4.3835 [best: 6.2648]\n",
      "val_median_q_error_100: 29.6279 [best: 16.3334]\n",
      "epochs_wo_improvement: 0\n",
      "Saved checkpoint to ../zero-shot-data/evaluation/job_full_tune/imdb_full_0_pg_est_ft_1000.pt in 0.068 secs\n",
      "Epoch 11\n"
     ]
    },
    {
     "name": "stderr",
     "output_type": "stream",
     "text": [
      "100%|█████████████████████████████████████████████| 4/4 [00:01<00:00,  2.26it/s]\n",
      "100%|█████████████████████████████████████████████| 1/1 [00:00<00:00,  1.06it/s]\n"
     ]
    },
    {
     "name": "stdout",
     "output_type": "stream",
     "text": [
      "val_loss epoch 11: 0.5616745352745056\n",
      "val_mse: 10.4737 [best: 5.8531]\n",
      "val_mape: 0.9413 [best: 0.6021]\n",
      "val_median_q_error_50: 1.7240 [best: 1.6857]\n",
      "val_median_q_error_95: 4.5513 [best: 4.3835]\n",
      "val_median_q_error_100: 16.0253 [best: 16.3334]\n",
      "epochs_wo_improvement: 1\n",
      "Saved checkpoint to ../zero-shot-data/evaluation/job_full_tune/imdb_full_0_pg_est_ft_1000.pt in 0.072 secs\n",
      "Epoch 12\n"
     ]
    },
    {
     "name": "stderr",
     "output_type": "stream",
     "text": [
      "100%|█████████████████████████████████████████████| 4/4 [00:02<00:00,  1.98it/s]\n",
      "100%|█████████████████████████████████████████████| 1/1 [00:01<00:00,  1.37s/it]\n"
     ]
    },
    {
     "name": "stdout",
     "output_type": "stream",
     "text": [
      "val_loss epoch 12: 0.5073257088661194\n",
      "val_mse: 5.2252 [best: 5.8531]\n",
      "val_mape: 0.6051 [best: 0.6021]\n",
      "val_median_q_error_50: 1.5974 [best: 1.6857]\n",
      "New best model for val_median_q_error_50\n",
      "val_median_q_error_95: 4.5733 [best: 4.3835]\n",
      "val_median_q_error_100: 17.0066 [best: 16.0253]\n",
      "epochs_wo_improvement: 0\n",
      "Saved checkpoint to ../zero-shot-data/evaluation/job_full_tune/imdb_full_0_pg_est_ft_1000.pt in 0.063 secs\n",
      "Epoch 13\n"
     ]
    },
    {
     "name": "stderr",
     "output_type": "stream",
     "text": [
      "100%|█████████████████████████████████████████████| 4/4 [00:01<00:00,  2.28it/s]\n",
      "100%|█████████████████████████████████████████████| 1/1 [00:00<00:00,  1.05it/s]\n"
     ]
    },
    {
     "name": "stdout",
     "output_type": "stream",
     "text": [
      "val_loss epoch 13: 0.49012452363967896\n",
      "val_mse: 7.1892 [best: 5.2252]\n",
      "val_mape: 0.6715 [best: 0.6021]\n",
      "val_median_q_error_50: 1.6327 [best: 1.5974]\n",
      "val_median_q_error_95: 3.4415 [best: 4.3835]\n",
      "val_median_q_error_100: 13.4480 [best: 16.0253]\n",
      "epochs_wo_improvement: 1\n",
      "Saved checkpoint to ../zero-shot-data/evaluation/job_full_tune/imdb_full_0_pg_est_ft_1000.pt in 0.065 secs\n",
      "Epoch 14\n"
     ]
    },
    {
     "name": "stderr",
     "output_type": "stream",
     "text": [
      "100%|█████████████████████████████████████████████| 4/4 [00:01<00:00,  2.26it/s]\n",
      "100%|█████████████████████████████████████████████| 1/1 [00:00<00:00,  1.04it/s]\n"
     ]
    },
    {
     "name": "stdout",
     "output_type": "stream",
     "text": [
      "val_loss epoch 14: 0.44587960839271545\n",
      "val_mse: 4.9170 [best: 5.2252]\n",
      "val_mape: 0.5140 [best: 0.6021]\n",
      "val_median_q_error_50: 1.5369 [best: 1.5974]\n",
      "New best model for val_median_q_error_50\n",
      "val_median_q_error_95: 3.5398 [best: 3.4415]\n",
      "val_median_q_error_100: 11.7735 [best: 13.4480]\n",
      "epochs_wo_improvement: 0\n",
      "Saved checkpoint to ../zero-shot-data/evaluation/job_full_tune/imdb_full_0_pg_est_ft_1000.pt in 0.063 secs\n",
      "Epoch 15\n"
     ]
    },
    {
     "name": "stderr",
     "output_type": "stream",
     "text": [
      "100%|█████████████████████████████████████████████| 4/4 [00:01<00:00,  2.25it/s]\n",
      "100%|█████████████████████████████████████████████| 1/1 [00:00<00:00,  1.02it/s]\n"
     ]
    },
    {
     "name": "stdout",
     "output_type": "stream",
     "text": [
      "val_loss epoch 15: 0.5058817863464355\n",
      "val_mse: 10.2620 [best: 4.9170]\n",
      "val_mape: 0.7582 [best: 0.5140]\n",
      "val_median_q_error_50: 1.6346 [best: 1.5369]\n",
      "val_median_q_error_95: 4.0432 [best: 3.4415]\n",
      "val_median_q_error_100: 9.2517 [best: 11.7735]\n",
      "epochs_wo_improvement: 1\n",
      "Saved checkpoint to ../zero-shot-data/evaluation/job_full_tune/imdb_full_0_pg_est_ft_1000.pt in 0.070 secs\n",
      "Epoch 16\n"
     ]
    },
    {
     "name": "stderr",
     "output_type": "stream",
     "text": [
      "100%|█████████████████████████████████████████████| 4/4 [00:01<00:00,  2.26it/s]\n",
      "100%|█████████████████████████████████████████████| 1/1 [00:00<00:00,  1.04it/s]\n"
     ]
    },
    {
     "name": "stdout",
     "output_type": "stream",
     "text": [
      "val_loss epoch 16: 0.45984938740730286\n",
      "val_mse: 5.3334 [best: 4.9170]\n",
      "val_mape: 0.7345 [best: 0.5140]\n",
      "val_median_q_error_50: 1.5909 [best: 1.5369]\n",
      "val_median_q_error_95: 3.5439 [best: 3.4415]\n",
      "val_median_q_error_100: 8.3236 [best: 9.2517]\n",
      "epochs_wo_improvement: 2\n",
      "Saved checkpoint to ../zero-shot-data/evaluation/job_full_tune/imdb_full_0_pg_est_ft_1000.pt in 0.063 secs\n",
      "Epoch 17\n"
     ]
    },
    {
     "name": "stderr",
     "output_type": "stream",
     "text": [
      "100%|█████████████████████████████████████████████| 4/4 [00:01<00:00,  2.22it/s]\n",
      "100%|█████████████████████████████████████████████| 1/1 [00:00<00:00,  1.02it/s]\n"
     ]
    },
    {
     "name": "stdout",
     "output_type": "stream",
     "text": [
      "val_loss epoch 17: 0.3877796530723572\n",
      "val_mse: 5.0488 [best: 4.9170]\n",
      "val_mape: 0.4768 [best: 0.5140]\n",
      "val_median_q_error_50: 1.3922 [best: 1.5369]\n",
      "New best model for val_median_q_error_50\n",
      "val_median_q_error_95: 3.0215 [best: 3.4415]\n",
      "val_median_q_error_100: 9.9830 [best: 8.3236]\n",
      "epochs_wo_improvement: 0\n",
      "Saved checkpoint to ../zero-shot-data/evaluation/job_full_tune/imdb_full_0_pg_est_ft_1000.pt in 0.063 secs\n",
      "Epoch 18\n"
     ]
    },
    {
     "name": "stderr",
     "output_type": "stream",
     "text": [
      "100%|█████████████████████████████████████████████| 4/4 [00:01<00:00,  2.25it/s]\n",
      "100%|█████████████████████████████████████████████| 1/1 [00:00<00:00,  1.02it/s]\n"
     ]
    },
    {
     "name": "stdout",
     "output_type": "stream",
     "text": [
      "val_loss epoch 18: 0.3544260561466217\n",
      "val_mse: 4.5736 [best: 4.9170]\n",
      "val_mape: 0.4090 [best: 0.4768]\n",
      "val_median_q_error_50: 1.3272 [best: 1.3922]\n",
      "New best model for val_median_q_error_50\n",
      "val_median_q_error_95: 2.9220 [best: 3.0215]\n",
      "val_median_q_error_100: 9.7387 [best: 8.3236]\n",
      "epochs_wo_improvement: 0\n",
      "Saved checkpoint to ../zero-shot-data/evaluation/job_full_tune/imdb_full_0_pg_est_ft_1000.pt in 0.066 secs\n",
      "Epoch 19\n"
     ]
    },
    {
     "name": "stderr",
     "output_type": "stream",
     "text": [
      "100%|█████████████████████████████████████████████| 4/4 [00:01<00:00,  2.22it/s]\n",
      "100%|█████████████████████████████████████████████| 1/1 [00:00<00:00,  1.02it/s]\n"
     ]
    },
    {
     "name": "stdout",
     "output_type": "stream",
     "text": [
      "val_loss epoch 19: 0.4009760618209839\n",
      "val_mse: 4.9017 [best: 4.5736]\n",
      "val_mape: 0.4291 [best: 0.4090]\n",
      "val_median_q_error_50: 1.4755 [best: 1.3272]\n",
      "val_median_q_error_95: 3.2820 [best: 2.9220]\n",
      "val_median_q_error_100: 12.8993 [best: 8.3236]\n",
      "epochs_wo_improvement: 1\n",
      "Saved checkpoint to ../zero-shot-data/evaluation/job_full_tune/imdb_full_0_pg_est_ft_1000.pt in 0.083 secs\n",
      "Epoch 20\n"
     ]
    },
    {
     "name": "stderr",
     "output_type": "stream",
     "text": [
      "100%|█████████████████████████████████████████████| 4/4 [00:01<00:00,  2.27it/s]\n",
      "100%|█████████████████████████████████████████████| 1/1 [00:00<00:00,  1.03it/s]\n"
     ]
    },
    {
     "name": "stdout",
     "output_type": "stream",
     "text": [
      "val_loss epoch 20: 0.36074620485305786\n",
      "val_mse: 4.6128 [best: 4.5736]\n",
      "val_mape: 0.5024 [best: 0.4090]\n",
      "val_median_q_error_50: 1.3800 [best: 1.3272]\n",
      "val_median_q_error_95: 2.9532 [best: 2.9220]\n",
      "val_median_q_error_100: 5.9002 [best: 8.3236]\n",
      "epochs_wo_improvement: 2\n",
      "Saved checkpoint to ../zero-shot-data/evaluation/job_full_tune/imdb_full_0_pg_est_ft_1000.pt in 0.068 secs\n",
      "Epoch 21\n"
     ]
    },
    {
     "name": "stderr",
     "output_type": "stream",
     "text": [
      "100%|█████████████████████████████████████████████| 4/4 [00:01<00:00,  2.24it/s]\n",
      "100%|█████████████████████████████████████████████| 1/1 [00:00<00:00,  1.05it/s]\n"
     ]
    },
    {
     "name": "stdout",
     "output_type": "stream",
     "text": [
      "val_loss epoch 21: 0.35066160559654236\n",
      "val_mse: 4.7711 [best: 4.5736]\n",
      "val_mape: 0.4082 [best: 0.4090]\n",
      "val_median_q_error_50: 1.3169 [best: 1.3272]\n",
      "New best model for val_median_q_error_50\n",
      "val_median_q_error_95: 3.0719 [best: 2.9220]\n",
      "val_median_q_error_100: 8.8836 [best: 5.9002]\n",
      "epochs_wo_improvement: 0\n",
      "Saved checkpoint to ../zero-shot-data/evaluation/job_full_tune/imdb_full_0_pg_est_ft_1000.pt in 0.067 secs\n",
      "Epoch 22\n"
     ]
    },
    {
     "name": "stderr",
     "output_type": "stream",
     "text": [
      "100%|█████████████████████████████████████████████| 4/4 [00:01<00:00,  2.22it/s]\n",
      "100%|█████████████████████████████████████████████| 1/1 [00:00<00:00,  1.05it/s]\n"
     ]
    },
    {
     "name": "stdout",
     "output_type": "stream",
     "text": [
      "val_loss epoch 22: 0.41150790452957153\n",
      "val_mse: 4.9606 [best: 4.5736]\n",
      "val_mape: 0.6288 [best: 0.4082]\n",
      "val_median_q_error_50: 1.4954 [best: 1.3169]\n",
      "val_median_q_error_95: 3.3082 [best: 2.9220]\n",
      "val_median_q_error_100: 5.9199 [best: 5.9002]\n",
      "epochs_wo_improvement: 1\n",
      "Saved checkpoint to ../zero-shot-data/evaluation/job_full_tune/imdb_full_0_pg_est_ft_1000.pt in 0.064 secs\n",
      "Epoch 23\n"
     ]
    },
    {
     "name": "stderr",
     "output_type": "stream",
     "text": [
      "100%|█████████████████████████████████████████████| 4/4 [00:01<00:00,  2.25it/s]\n",
      "100%|█████████████████████████████████████████████| 1/1 [00:00<00:00,  1.06it/s]\n"
     ]
    },
    {
     "name": "stdout",
     "output_type": "stream",
     "text": [
      "val_loss epoch 23: 0.4131030738353729\n",
      "val_mse: 8.0252 [best: 4.5736]\n",
      "val_mape: 0.5717 [best: 0.4082]\n",
      "val_median_q_error_50: 1.4538 [best: 1.3169]\n",
      "val_median_q_error_95: 3.4458 [best: 2.9220]\n",
      "val_median_q_error_100: 8.9445 [best: 5.9002]\n",
      "epochs_wo_improvement: 2\n",
      "Saved checkpoint to ../zero-shot-data/evaluation/job_full_tune/imdb_full_0_pg_est_ft_1000.pt in 0.078 secs\n",
      "Epoch 24\n"
     ]
    },
    {
     "name": "stderr",
     "output_type": "stream",
     "text": [
      "100%|█████████████████████████████████████████████| 4/4 [00:01<00:00,  2.25it/s]\n",
      "100%|█████████████████████████████████████████████| 1/1 [00:00<00:00,  1.05it/s]\n"
     ]
    },
    {
     "name": "stdout",
     "output_type": "stream",
     "text": [
      "val_loss epoch 24: 0.3446336090564728\n",
      "val_mse: 4.6077 [best: 4.5736]\n",
      "val_mape: 0.4620 [best: 0.4082]\n",
      "val_median_q_error_50: 1.3922 [best: 1.3169]\n",
      "val_median_q_error_95: 2.8047 [best: 2.9220]\n",
      "val_median_q_error_100: 6.1151 [best: 5.9002]\n",
      "epochs_wo_improvement: 3\n",
      "Saved checkpoint to ../zero-shot-data/evaluation/job_full_tune/imdb_full_0_pg_est_ft_1000.pt in 0.071 secs\n",
      "Epoch 25\n"
     ]
    },
    {
     "name": "stderr",
     "output_type": "stream",
     "text": [
      "100%|█████████████████████████████████████████████| 4/4 [00:01<00:00,  2.26it/s]\n",
      "100%|█████████████████████████████████████████████| 1/1 [00:00<00:00,  1.03it/s]\n"
     ]
    },
    {
     "name": "stdout",
     "output_type": "stream",
     "text": [
      "val_loss epoch 25: 0.3754085898399353\n",
      "val_mse: 4.6078 [best: 4.5736]\n",
      "val_mape: 0.3554 [best: 0.4082]\n",
      "val_median_q_error_50: 1.3877 [best: 1.3169]\n",
      "val_median_q_error_95: 3.2417 [best: 2.8047]\n",
      "val_median_q_error_100: 10.1069 [best: 5.9002]\n",
      "epochs_wo_improvement: 4\n",
      "Saved checkpoint to ../zero-shot-data/evaluation/job_full_tune/imdb_full_0_pg_est_ft_1000.pt in 0.069 secs\n",
      "Epoch 26\n"
     ]
    },
    {
     "name": "stderr",
     "output_type": "stream",
     "text": [
      "100%|█████████████████████████████████████████████| 4/4 [00:01<00:00,  2.30it/s]\n",
      "100%|█████████████████████████████████████████████| 1/1 [00:00<00:00,  1.02it/s]\n"
     ]
    },
    {
     "name": "stdout",
     "output_type": "stream",
     "text": [
      "val_loss epoch 26: 0.316417932510376\n",
      "val_mse: 4.4351 [best: 4.5736]\n",
      "val_mape: 0.3483 [best: 0.3554]\n",
      "val_median_q_error_50: 1.2903 [best: 1.3169]\n",
      "New best model for val_median_q_error_50\n",
      "val_median_q_error_95: 2.9149 [best: 2.8047]\n",
      "val_median_q_error_100: 6.8986 [best: 5.9002]\n",
      "epochs_wo_improvement: 0\n",
      "Saved checkpoint to ../zero-shot-data/evaluation/job_full_tune/imdb_full_0_pg_est_ft_1000.pt in 0.064 secs\n",
      "Epoch 27\n"
     ]
    },
    {
     "name": "stderr",
     "output_type": "stream",
     "text": [
      "100%|█████████████████████████████████████████████| 4/4 [00:01<00:00,  2.24it/s]\n",
      "100%|█████████████████████████████████████████████| 1/1 [00:00<00:00,  1.04it/s]\n"
     ]
    },
    {
     "name": "stdout",
     "output_type": "stream",
     "text": [
      "val_loss epoch 27: 0.3146883547306061\n",
      "val_mse: 4.4822 [best: 4.4351]\n",
      "val_mape: 0.3663 [best: 0.3483]\n",
      "val_median_q_error_50: 1.3104 [best: 1.2903]\n",
      "val_median_q_error_95: 2.6798 [best: 2.8047]\n",
      "val_median_q_error_100: 6.8508 [best: 5.9002]\n",
      "epochs_wo_improvement: 1\n",
      "Saved checkpoint to ../zero-shot-data/evaluation/job_full_tune/imdb_full_0_pg_est_ft_1000.pt in 0.067 secs\n",
      "Epoch 28\n"
     ]
    },
    {
     "name": "stderr",
     "output_type": "stream",
     "text": [
      "100%|█████████████████████████████████████████████| 4/4 [00:01<00:00,  2.25it/s]\n",
      "100%|█████████████████████████████████████████████| 1/1 [00:00<00:00,  1.03it/s]\n"
     ]
    },
    {
     "name": "stdout",
     "output_type": "stream",
     "text": [
      "val_loss epoch 28: 0.32015544176101685\n",
      "val_mse: 4.2958 [best: 4.4351]\n",
      "val_mape: 0.3342 [best: 0.3483]\n",
      "val_median_q_error_50: 1.3254 [best: 1.2903]\n",
      "val_median_q_error_95: 2.8673 [best: 2.6798]\n",
      "val_median_q_error_100: 6.5323 [best: 5.9002]\n",
      "epochs_wo_improvement: 2\n",
      "Saved checkpoint to ../zero-shot-data/evaluation/job_full_tune/imdb_full_0_pg_est_ft_1000.pt in 0.069 secs\n",
      "Epoch 29\n"
     ]
    },
    {
     "name": "stderr",
     "output_type": "stream",
     "text": [
      "100%|█████████████████████████████████████████████| 4/4 [00:01<00:00,  2.22it/s]\n",
      "100%|█████████████████████████████████████████████| 1/1 [00:00<00:00,  1.04it/s]\n"
     ]
    },
    {
     "name": "stdout",
     "output_type": "stream",
     "text": [
      "val_loss epoch 29: 0.36817654967308044\n",
      "val_mse: 6.3904 [best: 4.2958]\n",
      "val_mape: 0.5172 [best: 0.3342]\n",
      "val_median_q_error_50: 1.4274 [best: 1.2903]\n",
      "val_median_q_error_95: 2.8965 [best: 2.6798]\n",
      "val_median_q_error_100: 5.0485 [best: 5.9002]\n",
      "epochs_wo_improvement: 3\n",
      "Saved checkpoint to ../zero-shot-data/evaluation/job_full_tune/imdb_full_0_pg_est_ft_1000.pt in 0.070 secs\n",
      "Epoch 30\n"
     ]
    },
    {
     "name": "stderr",
     "output_type": "stream",
     "text": [
      "100%|█████████████████████████████████████████████| 4/4 [00:01<00:00,  2.19it/s]\n",
      "100%|█████████████████████████████████████████████| 1/1 [00:00<00:00,  1.03it/s]\n"
     ]
    },
    {
     "name": "stdout",
     "output_type": "stream",
     "text": [
      "val_loss epoch 30: 0.33414843678474426\n",
      "val_mse: 4.3376 [best: 4.2958]\n",
      "val_mape: 0.4539 [best: 0.3342]\n",
      "val_median_q_error_50: 1.3749 [best: 1.2903]\n",
      "val_median_q_error_95: 2.6099 [best: 2.6798]\n",
      "val_median_q_error_100: 5.1960 [best: 5.0485]\n",
      "epochs_wo_improvement: 4\n",
      "Saved checkpoint to ../zero-shot-data/evaluation/job_full_tune/imdb_full_0_pg_est_ft_1000.pt in 0.076 secs\n",
      "Epoch 31\n"
     ]
    },
    {
     "name": "stderr",
     "output_type": "stream",
     "text": [
      "100%|█████████████████████████████████████████████| 4/4 [00:01<00:00,  2.23it/s]\n",
      "100%|█████████████████████████████████████████████| 1/1 [00:00<00:00,  1.03it/s]\n"
     ]
    },
    {
     "name": "stdout",
     "output_type": "stream",
     "text": [
      "val_loss epoch 31: 0.35122525691986084\n",
      "val_mse: 4.2543 [best: 4.2958]\n",
      "val_mape: 0.3510 [best: 0.3342]\n",
      "val_median_q_error_50: 1.3675 [best: 1.2903]\n",
      "val_median_q_error_95: 2.9455 [best: 2.6099]\n",
      "val_median_q_error_100: 7.3008 [best: 5.0485]\n",
      "epochs_wo_improvement: 5\n",
      "Saved checkpoint to ../zero-shot-data/evaluation/job_full_tune/imdb_full_0_pg_est_ft_1000.pt in 0.078 secs\n",
      "Epoch 32\n"
     ]
    },
    {
     "name": "stderr",
     "output_type": "stream",
     "text": [
      "100%|█████████████████████████████████████████████| 4/4 [00:01<00:00,  2.21it/s]\n",
      "100%|█████████████████████████████████████████████| 1/1 [00:00<00:00,  1.06it/s]\n"
     ]
    },
    {
     "name": "stdout",
     "output_type": "stream",
     "text": [
      "val_loss epoch 32: 0.30999085307121277\n",
      "val_mse: 4.1869 [best: 4.2543]\n",
      "val_mape: 0.3447 [best: 0.3342]\n",
      "val_median_q_error_50: 1.3209 [best: 1.2903]\n",
      "val_median_q_error_95: 2.4963 [best: 2.6099]\n",
      "val_median_q_error_100: 5.9395 [best: 5.0485]\n",
      "epochs_wo_improvement: 6\n",
      "Saved checkpoint to ../zero-shot-data/evaluation/job_full_tune/imdb_full_0_pg_est_ft_1000.pt in 0.063 secs\n",
      "Epoch 33\n"
     ]
    },
    {
     "name": "stderr",
     "output_type": "stream",
     "text": [
      "100%|█████████████████████████████████████████████| 4/4 [00:01<00:00,  2.25it/s]\n",
      "100%|█████████████████████████████████████████████| 1/1 [00:01<00:00,  1.18s/it]\n"
     ]
    },
    {
     "name": "stdout",
     "output_type": "stream",
     "text": [
      "val_loss epoch 33: 0.3075467050075531\n",
      "val_mse: 4.1720 [best: 4.1869]\n",
      "val_mape: 0.3223 [best: 0.3342]\n",
      "val_median_q_error_50: 1.3109 [best: 1.2903]\n",
      "val_median_q_error_95: 2.7175 [best: 2.4963]\n",
      "val_median_q_error_100: 5.7297 [best: 5.0485]\n",
      "epochs_wo_improvement: 7\n",
      "Saved checkpoint to ../zero-shot-data/evaluation/job_full_tune/imdb_full_0_pg_est_ft_1000.pt in 0.068 secs\n",
      "Epoch 34\n"
     ]
    },
    {
     "name": "stderr",
     "output_type": "stream",
     "text": [
      "100%|█████████████████████████████████████████████| 4/4 [00:02<00:00,  1.99it/s]\n",
      "100%|█████████████████████████████████████████████| 1/1 [00:01<00:00,  1.40s/it]\n"
     ]
    },
    {
     "name": "stdout",
     "output_type": "stream",
     "text": [
      "val_loss epoch 34: 0.3193889856338501\n",
      "val_mse: 4.3117 [best: 4.1720]\n",
      "val_mape: 0.3197 [best: 0.3223]\n",
      "val_median_q_error_50: 1.3286 [best: 1.2903]\n",
      "val_median_q_error_95: 2.8656 [best: 2.4963]\n",
      "val_median_q_error_100: 6.1055 [best: 5.0485]\n",
      "epochs_wo_improvement: 8\n",
      "Saved checkpoint to ../zero-shot-data/evaluation/job_full_tune/imdb_full_0_pg_est_ft_1000.pt in 0.069 secs\n",
      "Epoch 35\n"
     ]
    },
    {
     "name": "stderr",
     "output_type": "stream",
     "text": [
      "100%|█████████████████████████████████████████████| 4/4 [00:01<00:00,  2.26it/s]\n",
      "100%|█████████████████████████████████████████████| 1/1 [00:00<00:00,  1.05it/s]\n"
     ]
    },
    {
     "name": "stdout",
     "output_type": "stream",
     "text": [
      "val_loss epoch 35: 0.3351970314979553\n",
      "val_mse: 4.1913 [best: 4.1720]\n",
      "val_mape: 0.3329 [best: 0.3197]\n",
      "val_median_q_error_50: 1.3500 [best: 1.2903]\n",
      "val_median_q_error_95: 2.6628 [best: 2.4963]\n",
      "val_median_q_error_100: 6.9244 [best: 5.0485]\n",
      "epochs_wo_improvement: 9\n",
      "Saved checkpoint to ../zero-shot-data/evaluation/job_full_tune/imdb_full_0_pg_est_ft_1000.pt in 0.080 secs\n",
      "Epoch 36\n"
     ]
    },
    {
     "name": "stderr",
     "output_type": "stream",
     "text": [
      "100%|█████████████████████████████████████████████| 4/4 [00:01<00:00,  2.27it/s]\n",
      "100%|█████████████████████████████████████████████| 1/1 [00:00<00:00,  1.02it/s]\n"
     ]
    },
    {
     "name": "stdout",
     "output_type": "stream",
     "text": [
      "val_loss epoch 36: 0.3702506124973297\n",
      "val_mse: 4.6224 [best: 4.1720]\n",
      "val_mape: 0.3376 [best: 0.3197]\n",
      "val_median_q_error_50: 1.4125 [best: 1.2903]\n",
      "val_median_q_error_95: 3.2152 [best: 2.4963]\n",
      "val_median_q_error_100: 6.4431 [best: 5.0485]\n",
      "epochs_wo_improvement: 10\n",
      "Saved checkpoint to ../zero-shot-data/evaluation/job_full_tune/imdb_full_0_pg_est_ft_1000.pt in 0.065 secs\n",
      "Epoch 37\n"
     ]
    },
    {
     "name": "stderr",
     "output_type": "stream",
     "text": [
      "100%|█████████████████████████████████████████████| 4/4 [00:01<00:00,  2.27it/s]\n",
      "100%|█████████████████████████████████████████████| 1/1 [00:00<00:00,  1.04it/s]\n"
     ]
    },
    {
     "name": "stdout",
     "output_type": "stream",
     "text": [
      "val_loss epoch 37: 0.3694334924221039\n",
      "val_mse: 4.3225 [best: 4.1720]\n",
      "val_mape: 0.3499 [best: 0.3197]\n",
      "val_median_q_error_50: 1.4397 [best: 1.2903]\n",
      "val_median_q_error_95: 3.0194 [best: 2.4963]\n",
      "val_median_q_error_100: 6.8558 [best: 5.0485]\n",
      "epochs_wo_improvement: 11\n",
      "Saved checkpoint to ../zero-shot-data/evaluation/job_full_tune/imdb_full_0_pg_est_ft_1000.pt in 0.077 secs\n",
      "Epoch 38\n"
     ]
    },
    {
     "name": "stderr",
     "output_type": "stream",
     "text": [
      "100%|█████████████████████████████████████████████| 4/4 [00:01<00:00,  2.28it/s]\n",
      "100%|█████████████████████████████████████████████| 1/1 [00:00<00:00,  1.03it/s]\n"
     ]
    },
    {
     "name": "stdout",
     "output_type": "stream",
     "text": [
      "val_loss epoch 38: 0.3215378522872925\n",
      "val_mse: 4.1602 [best: 4.1720]\n",
      "val_mape: 0.3228 [best: 0.3197]\n",
      "val_median_q_error_50: 1.3125 [best: 1.2903]\n",
      "val_median_q_error_95: 2.8427 [best: 2.4963]\n",
      "val_median_q_error_100: 5.7025 [best: 5.0485]\n",
      "epochs_wo_improvement: 12\n",
      "Saved checkpoint to ../zero-shot-data/evaluation/job_full_tune/imdb_full_0_pg_est_ft_1000.pt in 0.078 secs\n",
      "Epoch 39\n"
     ]
    },
    {
     "name": "stderr",
     "output_type": "stream",
     "text": [
      "100%|█████████████████████████████████████████████| 4/4 [00:01<00:00,  2.26it/s]\n",
      "100%|█████████████████████████████████████████████| 1/1 [00:00<00:00,  1.02it/s]\n"
     ]
    },
    {
     "name": "stdout",
     "output_type": "stream",
     "text": [
      "val_loss epoch 39: 0.2955303192138672\n",
      "val_mse: 4.0164 [best: 4.1602]\n",
      "val_mape: 0.3307 [best: 0.3197]\n",
      "val_median_q_error_50: 1.2812 [best: 1.2903]\n",
      "New best model for val_median_q_error_50\n",
      "val_median_q_error_95: 2.6354 [best: 2.4963]\n",
      "val_median_q_error_100: 4.9800 [best: 5.0485]\n",
      "epochs_wo_improvement: 0\n",
      "Saved checkpoint to ../zero-shot-data/evaluation/job_full_tune/imdb_full_0_pg_est_ft_1000.pt in 0.070 secs\n",
      "Epoch 40\n"
     ]
    },
    {
     "name": "stderr",
     "output_type": "stream",
     "text": [
      "100%|█████████████████████████████████████████████| 4/4 [00:01<00:00,  2.26it/s]\n",
      "100%|█████████████████████████████████████████████| 1/1 [00:00<00:00,  1.03it/s]\n"
     ]
    },
    {
     "name": "stdout",
     "output_type": "stream",
     "text": [
      "val_loss epoch 40: 0.2988407015800476\n",
      "val_mse: 4.0602 [best: 4.0164]\n",
      "val_mape: 0.3348 [best: 0.3197]\n",
      "val_median_q_error_50: 1.3089 [best: 1.2812]\n",
      "val_median_q_error_95: 2.5918 [best: 2.4963]\n",
      "val_median_q_error_100: 5.1725 [best: 4.9800]\n",
      "epochs_wo_improvement: 1\n",
      "Saved checkpoint to ../zero-shot-data/evaluation/job_full_tune/imdb_full_0_pg_est_ft_1000.pt in 0.076 secs\n",
      "Epoch 41\n"
     ]
    },
    {
     "name": "stderr",
     "output_type": "stream",
     "text": [
      "100%|█████████████████████████████████████████████| 4/4 [00:01<00:00,  2.22it/s]\n",
      "100%|█████████████████████████████████████████████| 1/1 [00:00<00:00,  1.05it/s]\n"
     ]
    },
    {
     "name": "stdout",
     "output_type": "stream",
     "text": [
      "val_loss epoch 41: 0.298584520816803\n",
      "val_mse: 4.0906 [best: 4.0164]\n",
      "val_mape: 0.3365 [best: 0.3197]\n",
      "val_median_q_error_50: 1.2916 [best: 1.2812]\n",
      "val_median_q_error_95: 2.6018 [best: 2.4963]\n",
      "val_median_q_error_100: 5.3529 [best: 4.9800]\n",
      "epochs_wo_improvement: 2\n",
      "Saved checkpoint to ../zero-shot-data/evaluation/job_full_tune/imdb_full_0_pg_est_ft_1000.pt in 0.074 secs\n",
      "Epoch 42\n"
     ]
    },
    {
     "name": "stderr",
     "output_type": "stream",
     "text": [
      "100%|█████████████████████████████████████████████| 4/4 [00:01<00:00,  2.31it/s]\n",
      "100%|█████████████████████████████████████████████| 1/1 [00:00<00:00,  1.03it/s]\n"
     ]
    },
    {
     "name": "stdout",
     "output_type": "stream",
     "text": [
      "val_loss epoch 42: 0.30834224820137024\n",
      "val_mse: 4.0839 [best: 4.0164]\n",
      "val_mape: 0.3481 [best: 0.3197]\n",
      "val_median_q_error_50: 1.3403 [best: 1.2812]\n",
      "val_median_q_error_95: 2.5797 [best: 2.4963]\n",
      "val_median_q_error_100: 4.8368 [best: 4.9800]\n",
      "epochs_wo_improvement: 3\n",
      "Saved checkpoint to ../zero-shot-data/evaluation/job_full_tune/imdb_full_0_pg_est_ft_1000.pt in 0.076 secs\n",
      "Epoch 43\n"
     ]
    },
    {
     "name": "stderr",
     "output_type": "stream",
     "text": [
      "100%|█████████████████████████████████████████████| 4/4 [00:01<00:00,  2.28it/s]\n",
      "100%|█████████████████████████████████████████████| 1/1 [00:00<00:00,  1.03it/s]\n"
     ]
    },
    {
     "name": "stdout",
     "output_type": "stream",
     "text": [
      "val_loss epoch 43: 0.2964106500148773\n",
      "val_mse: 3.9646 [best: 4.0164]\n",
      "val_mape: 0.3666 [best: 0.3197]\n",
      "val_median_q_error_50: 1.2909 [best: 1.2812]\n",
      "val_median_q_error_95: 2.4119 [best: 2.4963]\n",
      "val_median_q_error_100: 4.5699 [best: 4.8368]\n",
      "epochs_wo_improvement: 4\n",
      "Saved checkpoint to ../zero-shot-data/evaluation/job_full_tune/imdb_full_0_pg_est_ft_1000.pt in 0.067 secs\n",
      "Epoch 44\n"
     ]
    },
    {
     "name": "stderr",
     "output_type": "stream",
     "text": [
      "100%|█████████████████████████████████████████████| 4/4 [00:01<00:00,  2.29it/s]\n",
      "100%|█████████████████████████████████████████████| 1/1 [00:00<00:00,  1.03it/s]\n"
     ]
    },
    {
     "name": "stdout",
     "output_type": "stream",
     "text": [
      "val_loss epoch 44: 0.2902454137802124\n",
      "val_mse: 4.2376 [best: 3.9646]\n",
      "val_mape: 0.3396 [best: 0.3197]\n",
      "val_median_q_error_50: 1.2728 [best: 1.2812]\n",
      "New best model for val_median_q_error_50\n",
      "val_median_q_error_95: 2.4989 [best: 2.4119]\n",
      "val_median_q_error_100: 5.0239 [best: 4.5699]\n",
      "epochs_wo_improvement: 0\n",
      "Saved checkpoint to ../zero-shot-data/evaluation/job_full_tune/imdb_full_0_pg_est_ft_1000.pt in 0.072 secs\n",
      "Epoch 45\n"
     ]
    },
    {
     "name": "stderr",
     "output_type": "stream",
     "text": [
      "100%|█████████████████████████████████████████████| 4/4 [00:01<00:00,  2.26it/s]\n",
      "100%|█████████████████████████████████████████████| 1/1 [00:00<00:00,  1.05it/s]\n"
     ]
    },
    {
     "name": "stdout",
     "output_type": "stream",
     "text": [
      "val_loss epoch 45: 0.2846093475818634\n",
      "val_mse: 4.0671 [best: 3.9646]\n",
      "val_mape: 0.3368 [best: 0.3197]\n",
      "val_median_q_error_50: 1.2985 [best: 1.2728]\n",
      "val_median_q_error_95: 2.4430 [best: 2.4119]\n",
      "val_median_q_error_100: 4.7464 [best: 4.5699]\n",
      "epochs_wo_improvement: 1\n",
      "Saved checkpoint to ../zero-shot-data/evaluation/job_full_tune/imdb_full_0_pg_est_ft_1000.pt in 0.091 secs\n",
      "Epoch 46\n"
     ]
    },
    {
     "name": "stderr",
     "output_type": "stream",
     "text": [
      "100%|█████████████████████████████████████████████| 4/4 [00:01<00:00,  2.25it/s]\n",
      "100%|█████████████████████████████████████████████| 1/1 [00:00<00:00,  1.05it/s]\n"
     ]
    },
    {
     "name": "stdout",
     "output_type": "stream",
     "text": [
      "val_loss epoch 46: 0.28765416145324707\n",
      "val_mse: 4.0521 [best: 3.9646]\n",
      "val_mape: 0.3291 [best: 0.3197]\n",
      "val_median_q_error_50: 1.2842 [best: 1.2728]\n",
      "val_median_q_error_95: 2.6288 [best: 2.4119]\n",
      "val_median_q_error_100: 4.7534 [best: 4.5699]\n",
      "epochs_wo_improvement: 2\n",
      "Saved checkpoint to ../zero-shot-data/evaluation/job_full_tune/imdb_full_0_pg_est_ft_1000.pt in 0.074 secs\n",
      "Epoch 47\n"
     ]
    },
    {
     "name": "stderr",
     "output_type": "stream",
     "text": [
      "100%|█████████████████████████████████████████████| 4/4 [00:01<00:00,  2.21it/s]\n",
      "100%|█████████████████████████████████████████████| 1/1 [00:00<00:00,  1.03it/s]\n"
     ]
    },
    {
     "name": "stdout",
     "output_type": "stream",
     "text": [
      "val_loss epoch 47: 0.29770615696907043\n",
      "val_mse: 4.2868 [best: 3.9646]\n",
      "val_mape: 0.3747 [best: 0.3197]\n",
      "val_median_q_error_50: 1.3161 [best: 1.2728]\n",
      "val_median_q_error_95: 2.3248 [best: 2.4119]\n",
      "val_median_q_error_100: 4.4016 [best: 4.5699]\n",
      "epochs_wo_improvement: 3\n",
      "Saved checkpoint to ../zero-shot-data/evaluation/job_full_tune/imdb_full_0_pg_est_ft_1000.pt in 0.067 secs\n",
      "Epoch 48\n"
     ]
    },
    {
     "name": "stderr",
     "output_type": "stream",
     "text": [
      "100%|█████████████████████████████████████████████| 4/4 [00:01<00:00,  2.24it/s]\n",
      "100%|█████████████████████████████████████████████| 1/1 [00:00<00:00,  1.08it/s]\n"
     ]
    },
    {
     "name": "stdout",
     "output_type": "stream",
     "text": [
      "val_loss epoch 48: 0.29744502902030945\n",
      "val_mse: 3.9903 [best: 3.9646]\n",
      "val_mape: 0.3769 [best: 0.3197]\n",
      "val_median_q_error_50: 1.3362 [best: 1.2728]\n",
      "val_median_q_error_95: 2.1857 [best: 2.3248]\n",
      "val_median_q_error_100: 4.2493 [best: 4.4016]\n",
      "epochs_wo_improvement: 4\n",
      "Saved checkpoint to ../zero-shot-data/evaluation/job_full_tune/imdb_full_0_pg_est_ft_1000.pt in 0.063 secs\n",
      "Epoch 49\n"
     ]
    },
    {
     "name": "stderr",
     "output_type": "stream",
     "text": [
      "100%|█████████████████████████████████████████████| 4/4 [00:01<00:00,  2.26it/s]\n",
      "100%|█████████████████████████████████████████████| 1/1 [00:00<00:00,  1.05it/s]\n"
     ]
    },
    {
     "name": "stdout",
     "output_type": "stream",
     "text": [
      "val_loss epoch 49: 0.31218430399894714\n",
      "val_mse: 4.3808 [best: 3.9646]\n",
      "val_mape: 0.4157 [best: 0.3197]\n",
      "val_median_q_error_50: 1.3403 [best: 1.2728]\n",
      "val_median_q_error_95: 2.2187 [best: 2.1857]\n",
      "val_median_q_error_100: 4.3901 [best: 4.2493]\n",
      "epochs_wo_improvement: 5\n",
      "Saved checkpoint to ../zero-shot-data/evaluation/job_full_tune/imdb_full_0_pg_est_ft_1000.pt in 0.074 secs\n",
      "Early stopping kicked in due to no improvement in 20 epochs\n",
      "Starting validation for ../zero-shot-data/evaluation/job_full_tune/test_imdb_full_0_pg_est_ft_1000_job_full_c8220.csv\n",
      "Reloading best model\n"
     ]
    },
    {
     "name": "stderr",
     "output_type": "stream",
     "text": [
      "100%|█████████████████████████████████████████████| 1/1 [00:01<00:00,  1.14s/it]"
     ]
    },
    {
     "name": "stdout",
     "output_type": "stream",
     "text": [
      "val_loss epoch 50: 0.5266938209533691\n",
      "val_mse: 6.2942 [best: 3.9646]\n",
      "val_mape: 0.6153 [best: 0.3197]\n",
      "val_median_q_error_50: 1.4630 [best: 1.2728]\n",
      "val_median_q_error_95: 7.1657 [best: 2.1857]\n",
      "val_median_q_error_100: 11.6235 [best: 4.2493]\n"
     ]
    },
    {
     "name": "stderr",
     "output_type": "stream",
     "text": [
      "\n"
     ]
    }
   ],
   "source": [
    "model = train_readout_hyperparams(workload_runs, test_workload_runs, statistics_file, target_dir, ft_filename_model,\n",
    "                          hyperparameter_path, num_workers=16, database=database, max_no_epochs=50, \n",
    "                          limit_queries=limit_queries, limit_queries_affected_wl=3\n",
    ")"
   ]
  },
  {
   "cell_type": "code",
   "execution_count": 8,
   "id": "7bf950c0",
   "metadata": {},
   "outputs": [
    {
     "name": "stderr",
     "output_type": "stream",
     "text": [
      "100%|█████████████████████████████████████████████| 1/1 [00:00<00:00,  1.15it/s]"
     ]
    },
    {
     "name": "stdout",
     "output_type": "stream",
     "text": [
      "performance with 1000 finetuning:\n",
      "1.4629887342453003\n",
      "3.233961677551271\n",
      "7.165688800811769\n",
      "10.138860626220692\n",
      "11.623549461364746\n"
     ]
    },
    {
     "name": "stderr",
     "output_type": "stream",
     "text": [
      "\n"
     ]
    }
   ],
   "source": [
    "true, pred = validate_model(test_loaders[0], model)\n",
    "qerror = np.maximum(true/pred, pred/true)\n",
    "print(f\"performance with {limit_queries} finetuning:\")\n",
    "for i in [50, 90, 95, 99, 100]:\n",
    "    print(np.percentile(qerror, i))"
   ]
  },
  {
   "cell_type": "code",
   "execution_count": null,
   "id": "29b1a8a1",
   "metadata": {},
   "outputs": [],
   "source": []
  }
 ],
 "metadata": {
  "kernelspec": {
   "display_name": "Python 3 (ipykernel)",
   "language": "python",
   "name": "python3"
  },
  "language_info": {
   "codemirror_mode": {
    "name": "ipython",
    "version": 3
   },
   "file_extension": ".py",
   "mimetype": "text/x-python",
   "name": "python",
   "nbconvert_exporter": "python",
   "pygments_lexer": "ipython3",
   "version": "3.9.12"
  }
 },
 "nbformat": 4,
 "nbformat_minor": 5
}
