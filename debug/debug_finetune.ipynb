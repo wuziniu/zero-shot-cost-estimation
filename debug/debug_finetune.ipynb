{
 "cells": [
  {
   "cell_type": "code",
   "execution_count": 1,
   "id": "a0a728e1",
   "metadata": {},
   "outputs": [
    {
     "name": "stderr",
     "output_type": "stream",
     "text": [
      "Using backend: pytorch\n"
     ]
    }
   ],
   "source": [
    "import os\n",
    "import sys\n",
    "import time\n",
    "import json\n",
    "import matplotlib.pyplot as plt\n",
    "sys.path.append(\"/home/ziniuw/zero-shot-cost-estimation\")\n",
    "from models.zero_shot_models.specific_models.model import zero_shot_models\n",
    "from cross_db_benchmark.benchmark_tools.database import DatabaseSystem\n",
    "from models.training.train import train_default, train_readout_hyperparams"
   ]
  },
  {
   "cell_type": "code",
   "execution_count": 2,
   "id": "ba5218e1",
   "metadata": {},
   "outputs": [],
   "source": [
    "from copy import copy\n",
    "\n",
    "import numpy as np\n",
    "import optuna\n",
    "import torch\n",
    "import torch.optim as opt\n",
    "from tqdm import tqdm\n",
    "\n",
    "from cross_db_benchmark.benchmark_tools.utils import load_json\n",
    "from models.dataset.dataset_creation import create_dataloader\n",
    "from models.training.checkpoint import save_checkpoint, load_checkpoint, save_csv\n",
    "from models.training.metrics import MAPE, RMSE, QError\n",
    "from models.training.utils import batch_to, flatten_dict, find_early_stopping_metric\n",
    "from models.zero_shot_models.specific_models.model import zero_shot_models\n",
    "\n",
    "def training_model_loader(workload_runs,\n",
    "                test_workload_runs,\n",
    "                statistics_file,\n",
    "                target_dir,\n",
    "                filename_model,\n",
    "                optimizer_class_name='Adam',\n",
    "                optimizer_kwargs=None,\n",
    "                final_mlp_kwargs=None,\n",
    "                node_type_kwargs=None,\n",
    "                model_kwargs=None,\n",
    "                tree_layer_name='GATConv',\n",
    "                tree_layer_kwargs=None,\n",
    "                hidden_dim=32,\n",
    "                batch_size=32,\n",
    "                output_dim=1,\n",
    "                epochs=0,\n",
    "                device='cpu',\n",
    "                plan_featurization_name=None,\n",
    "                max_epoch_tuples=100000,\n",
    "                param_dict=None,\n",
    "                num_workers=1,\n",
    "                early_stopping_patience=20,\n",
    "                trial=None,\n",
    "                database=None,\n",
    "                limit_queries=None,\n",
    "                limit_queries_affected_wl=None,\n",
    "                skip_train=False,\n",
    "                seed=0):\n",
    "    if model_kwargs is None:\n",
    "        model_kwargs = dict()\n",
    "\n",
    "    # seed for reproducibility\n",
    "    torch.manual_seed(seed)\n",
    "    np.random.seed(seed)\n",
    "\n",
    "    target_test_csv_paths = []\n",
    "    if test_workload_runs is not None:\n",
    "        for p in test_workload_runs:\n",
    "            test_workload = os.path.basename(p).replace('.json', '')\n",
    "            target_test_csv_paths.append(os.path.join(target_dir, f'test_{filename_model}_{test_workload}.csv'))\n",
    "\n",
    "    # create a dataset\n",
    "    loss_class_name = final_mlp_kwargs['loss_class_name']\n",
    "    label_norm, feature_statistics, train_loader, val_loader, test_loaders = \\\n",
    "        create_dataloader(workload_runs, test_workload_runs, statistics_file, plan_featurization_name, database,\n",
    "                          val_ratio=0.15, batch_size=batch_size, shuffle=True, num_workers=num_workers,\n",
    "                          pin_memory=False, limit_queries=limit_queries,\n",
    "                          limit_queries_affected_wl=limit_queries_affected_wl, loss_class_name=loss_class_name)\n",
    "\n",
    "    if loss_class_name == 'QLoss':\n",
    "        metrics = [RMSE(), MAPE(), QError(percentile=50, early_stopping_metric=True), QError(percentile=95),\n",
    "                   QError(percentile=100)]\n",
    "    elif loss_class_name == 'MSELoss':\n",
    "        metrics = [RMSE(early_stopping_metric=True), MAPE(), QError(percentile=50), QError(percentile=95),\n",
    "                   QError(percentile=100)]\n",
    "\n",
    "    # create zero shot model dependent on database\n",
    "    model = zero_shot_models[database](device=device, hidden_dim=hidden_dim, final_mlp_kwargs=final_mlp_kwargs,\n",
    "                                       node_type_kwargs=node_type_kwargs, output_dim=output_dim,\n",
    "                                       feature_statistics=feature_statistics, tree_layer_name=tree_layer_name,\n",
    "                                       tree_layer_kwargs=tree_layer_kwargs,\n",
    "                                       plan_featurization_name=plan_featurization_name,\n",
    "                                       label_norm=label_norm,\n",
    "                                       **model_kwargs)\n",
    "    # move to gpu\n",
    "    model = model.to(model.device)\n",
    "    optimizer = opt.__dict__[optimizer_class_name](model.parameters(), **optimizer_kwargs)\n",
    "    csv_stats, epochs_wo_improvement, epoch, model, optimizer, metrics, finished = \\\n",
    "        load_checkpoint(model, target_dir, filename_model, optimizer=optimizer, metrics=metrics, filetype='.pt')\n",
    "    return test_loaders, model\n",
    "\n",
    "def load_model(workload_runs,\n",
    "            test_workload_runs,\n",
    "               statistics_file,\n",
    "               target_dir,\n",
    "               filename_model,\n",
    "               hyperparameter_path,\n",
    "              device='cpu',\n",
    "              max_epoch_tuples=100000,\n",
    "              num_workers=1,\n",
    "              loss_class_name='QLoss',\n",
    "              database=None,\n",
    "              seed=0,\n",
    "              limit_queries=None,\n",
    "              limit_queries_affected_wl=None,\n",
    "              max_no_epochs=None,\n",
    "              skip_train=False\n",
    "              ):\n",
    "    \"\"\"\n",
    "    Reads out hyperparameters and trains model\n",
    "    \"\"\"\n",
    "    print(f\"Reading hyperparameters from {hyperparameter_path}\")\n",
    "    hyperparams = load_json(hyperparameter_path, namespace=False)\n",
    "\n",
    "    p_dropout = hyperparams.pop('p_dropout')\n",
    "    # general fc out\n",
    "    fc_out_kwargs = dict(p_dropout=p_dropout,\n",
    "                         activation_class_name='LeakyReLU',\n",
    "                         activation_class_kwargs={},\n",
    "                         norm_class_name='Identity',\n",
    "                         norm_class_kwargs={},\n",
    "                         residual=hyperparams.pop('residual'),\n",
    "                         dropout=hyperparams.pop('dropout'),\n",
    "                         activation=True,\n",
    "                         inplace=True)\n",
    "    final_mlp_kwargs = dict(width_factor=hyperparams.pop('final_width_factor'),\n",
    "                            n_layers=hyperparams.pop('final_layers'),\n",
    "                            loss_class_name=loss_class_name,\n",
    "                            loss_class_kwargs=dict())\n",
    "    tree_layer_kwargs = dict(width_factor=hyperparams.pop('tree_layer_width_factor'),\n",
    "                             n_layers=hyperparams.pop('message_passing_layers'))\n",
    "    node_type_kwargs = dict(width_factor=hyperparams.pop('node_type_width_factor'),\n",
    "                            n_layers=hyperparams.pop('node_layers'),\n",
    "                            one_hot_embeddings=True,\n",
    "                            max_emb_dim=hyperparams.pop('max_emb_dim'),\n",
    "                            drop_whole_embeddings=False)\n",
    "    final_mlp_kwargs.update(**fc_out_kwargs)\n",
    "    tree_layer_kwargs.update(**fc_out_kwargs)\n",
    "    node_type_kwargs.update(**fc_out_kwargs)\n",
    "\n",
    "    train_kwargs = dict(optimizer_class_name='AdamW',\n",
    "                        optimizer_kwargs=dict(\n",
    "                            lr=hyperparams.pop('lr'),\n",
    "                        ),\n",
    "                        final_mlp_kwargs=final_mlp_kwargs,\n",
    "                        node_type_kwargs=node_type_kwargs,\n",
    "                        tree_layer_kwargs=tree_layer_kwargs,\n",
    "                        tree_layer_name=hyperparams.pop('tree_layer_name'),\n",
    "                        plan_featurization_name=hyperparams.pop('plan_featurization_name'),\n",
    "                        hidden_dim=hyperparams.pop('hidden_dim'),\n",
    "                        output_dim=1,\n",
    "                        epochs=200 if max_no_epochs is None else max_no_epochs,\n",
    "                        early_stopping_patience=20,\n",
    "                        max_epoch_tuples=max_epoch_tuples,\n",
    "                        batch_size=hyperparams.pop('batch_size'),\n",
    "                        device=device,\n",
    "                        num_workers=num_workers,\n",
    "                        seed=seed,\n",
    "                        limit_queries=limit_queries,\n",
    "                        limit_queries_affected_wl=limit_queries_affected_wl,\n",
    "                        skip_train=skip_train\n",
    "                        )\n",
    "\n",
    "    assert len(hyperparams) == 0, f\"Not all hyperparams were used (not used: {hyperparams.keys()}). Hence generation \" \\\n",
    "                                  f\"and reading does not seem to fit\"\n",
    "\n",
    "    param_dict = flatten_dict(train_kwargs)\n",
    "    \n",
    "    test_loaders, model = training_model_loader(workload_runs, test_workload_runs, statistics_file, target_dir, filename_model, \n",
    "                          param_dict=param_dict, database=database, **train_kwargs)\n",
    "    \n",
    "    return test_loaders, model\n",
    "\n",
    "def validate_model(val_loader, model, epoch=0, epoch_stats=None, metrics=None, max_epoch_tuples=None,\n",
    "                   custom_batch_to=batch_to, verbose=False, log_all_queries=False):\n",
    "    model.eval()\n",
    "    print(model.plan_featurization_name)\n",
    "    with torch.autograd.no_grad():\n",
    "        val_loss = torch.Tensor([0])\n",
    "        labels = []\n",
    "        preds = []\n",
    "        probs = []\n",
    "        sample_idxs = []\n",
    "\n",
    "        # evaluate test set using model\n",
    "        test_start_t = time.perf_counter()\n",
    "        val_num_tuples = 0\n",
    "        for batch_idx, batch in enumerate(tqdm(val_loader)):\n",
    "            if max_epoch_tuples is not None and batch_idx * val_loader.batch_size > max_epoch_tuples:\n",
    "                break\n",
    "            val_num_tuples += val_loader.batch_size\n",
    "\n",
    "            input_model, label, sample_idxs_batch = custom_batch_to(batch, model.device, model.label_norm)\n",
    "            #sample_idxs += sample_idxs_batch\n",
    "            output = model(input_model)\n",
    "\n",
    "            # sum up mean batch losses\n",
    "            val_loss += model.loss_fxn(output, label).cpu()\n",
    "\n",
    "            # inverse transform the predictions and labels\n",
    "            curr_pred = output.cpu().numpy()\n",
    "            curr_label = label.cpu().numpy()\n",
    "            if model.label_norm is not None:\n",
    "                curr_pred = model.label_norm.inverse_transform(curr_pred)\n",
    "                curr_label = model.label_norm.inverse_transform(curr_label.reshape(-1, 1))\n",
    "                curr_label = curr_label.reshape(-1)\n",
    "           \n",
    "            preds.append(curr_pred.reshape(-1))\n",
    "            labels.append(curr_label.reshape(-1))\n",
    "\n",
    "        if epoch_stats is not None:\n",
    "            epoch_stats.update(val_time=time.perf_counter() - test_start_t)\n",
    "            epoch_stats.update(val_num_tuples=val_num_tuples)\n",
    "            val_loss = (val_loss.cpu() / len(val_loader)).item()\n",
    "            print(f'val_loss epoch {epoch}: {val_loss}')\n",
    "            epoch_stats.update(val_loss=val_loss)\n",
    "\n",
    "        labels = np.concatenate(labels, axis=0)\n",
    "        preds = np.concatenate(preds, axis=0)\n",
    "        return labels, preds"
   ]
  },
  {
   "cell_type": "code",
   "execution_count": 3,
   "id": "0332eb71",
   "metadata": {},
   "outputs": [],
   "source": [
    "def test_one_model(target_dir, filename_model, hyperparameter_path, test_workload_runs=\n",
    "                   [\"/home/ziniuw/zero-shot-data/runs/parsed_plans/imdb_full/complex_queries_testing_2k.json\"],\n",
    "                   statistics_file=\"/home/ziniuw/zero-shot-data/runs/parsed_plans/statistics_workload_combined.json\"):\n",
    "    database = DatabaseSystem.POSTGRES\n",
    "    test_loaders, model = load_model(test_workload_runs, test_workload_runs, statistics_file, target_dir, filename_model,\n",
    "                  hyperparameter_path, database=database)\n",
    "    true, pred = validate_model(test_loaders[0], model)\n",
    "    qerror = np.maximum(true/pred, pred/true)\n",
    "    res = []\n",
    "    for i in [50, 95, 99]:\n",
    "        print(f\"{i} percentile is {np.percentile(qerror, i)}\")\n",
    "        res.append(np.percentile(qerror, i))\n",
    "    return res, true, pred\n",
    "\n",
    "        "
   ]
  },
  {
   "cell_type": "code",
   "execution_count": 15,
   "id": "00770066",
   "metadata": {},
   "outputs": [
    {
     "name": "stdout",
     "output_type": "stream",
     "text": [
      "python3 train.py --train_model --workload_runs ../zero-shot-data/runs/parsed_plans/imdb_full/complex_queries_training_50k.json --target ../zero-shot-data/evaluation/job_full_few_shot_tune/ --hyperparameter_path setup/tuned_hyperparameters/tune_{}best_config.json --seed 0 --limit_queries {} --limit_queries_affected_wl 1 --filename_model imdb_full_{}lmtq_{} --save_best\n"
     ]
    }
   ],
   "source": [
    "training_script = \"python3 train.py --train_model --workload_runs ../zero-shot-data/runs/parsed_plans/imdb_full/complex_queries_training_50k.json --target ../zero-shot-data/evaluation/job_full_few_shot_tune/ --hyperparameter_path setup/tuned_hyperparameters/tune_{}best_config.json --seed 0 --limit_queries {} --limit_queries_affected_wl 1 --filename_model imdb_full_{}lmtq_{} --save_best\"\n",
    "print(training_script)"
   ]
  },
  {
   "cell_type": "code",
   "execution_count": 8,
   "id": "b1c12090",
   "metadata": {},
   "outputs": [
    {
     "name": "stdout",
     "output_type": "stream",
     "text": [
      "***************************************************************\n",
      "evaluting model with 1000 queries and True Card, testing with True Card:\n",
      "Reading hyperparameters from /home/ziniuw/zero-shot-cost-estimation/setup/tuned_hyperparameters/tune_best_config.json\n",
      "No of Plans: 1598\n",
      "No of Plans: 1598\n",
      "Successfully loaded checkpoint from epoch 35 (35 csv rows) in 0.061 secs\n",
      "PostgresTrueCardDetail\n"
     ]
    },
    {
     "name": "stderr",
     "output_type": "stream",
     "text": [
      "100%|█████████████████████████████████████████████| 7/7 [00:06<00:00,  1.12it/s]\n"
     ]
    },
    {
     "name": "stdout",
     "output_type": "stream",
     "text": [
      "50 percentile is 1.2097904682159424\n",
      "95 percentile is 2.280944824218749\n",
      "99 percentile is 3.3701413440704346\n",
      "***************************************************************\n",
      "evaluting model with 1000 queries and True Card, testing with PG_est Card:\n",
      "Reading hyperparameters from /home/ziniuw/zero-shot-cost-estimation/setup/tuned_hyperparameters/tune_est_best_config.json\n",
      "No of Plans: 1598\n",
      "No of Plans: 1598\n",
      "Successfully loaded checkpoint from epoch 35 (35 csv rows) in 0.059 secs\n",
      "PostgresEstSystemCardDetail\n"
     ]
    },
    {
     "name": "stderr",
     "output_type": "stream",
     "text": [
      "100%|█████████████████████████████████████████████| 7/7 [00:06<00:00,  1.07it/s]\n"
     ]
    },
    {
     "name": "stdout",
     "output_type": "stream",
     "text": [
      "50 percentile is 1.3346271514892578\n",
      "95 percentile is 2.67138397693634\n",
      "99 percentile is 3.796183371543883\n",
      "***************************************************************\n",
      "evaluting model with 1000 queries and PG est Card, testing with True Card:\n",
      "Reading hyperparameters from /home/ziniuw/zero-shot-cost-estimation/setup/tuned_hyperparameters/tune_best_config.json\n",
      "No of Plans: 1598\n",
      "No of Plans: 1598\n",
      "Successfully loaded checkpoint from epoch 35 (35 csv rows) in 0.059 secs\n",
      "PostgresTrueCardDetail\n"
     ]
    },
    {
     "name": "stderr",
     "output_type": "stream",
     "text": [
      "100%|█████████████████████████████████████████████| 7/7 [00:06<00:00,  1.14it/s]\n"
     ]
    },
    {
     "name": "stdout",
     "output_type": "stream",
     "text": [
      "50 percentile is 1.289500117301941\n",
      "95 percentile is 2.5837953925132737\n",
      "99 percentile is 3.781354570388794\n",
      "***************************************************************\n",
      "evaluting model with 1000 queries and PG est Card, testing with PG_est Card:\n",
      "Reading hyperparameters from /home/ziniuw/zero-shot-cost-estimation/setup/tuned_hyperparameters/tune_est_best_config.json\n",
      "No of Plans: 1598\n",
      "No of Plans: 1598\n",
      "Successfully loaded checkpoint from epoch 35 (35 csv rows) in 0.059 secs\n",
      "PostgresEstSystemCardDetail\n"
     ]
    },
    {
     "name": "stderr",
     "output_type": "stream",
     "text": [
      "100%|█████████████████████████████████████████████| 7/7 [00:06<00:00,  1.14it/s]\n"
     ]
    },
    {
     "name": "stdout",
     "output_type": "stream",
     "text": [
      "50 percentile is 1.3703181743621826\n",
      "95 percentile is 2.7904004335403427\n",
      "99 percentile is 3.9342195940017675\n",
      "***************************************************************\n",
      "evaluting model with 5000 queries and True Card, testing with True Card:\n",
      "Reading hyperparameters from /home/ziniuw/zero-shot-cost-estimation/setup/tuned_hyperparameters/tune_best_config.json\n",
      "No of Plans: 1598\n",
      "No of Plans: 1598\n",
      "Successfully loaded checkpoint from epoch 31 (31 csv rows) in 0.059 secs\n",
      "PostgresTrueCardDetail\n"
     ]
    },
    {
     "name": "stderr",
     "output_type": "stream",
     "text": [
      "100%|█████████████████████████████████████████████| 7/7 [00:06<00:00,  1.13it/s]\n"
     ]
    },
    {
     "name": "stdout",
     "output_type": "stream",
     "text": [
      "50 percentile is 1.1833063960075378\n",
      "95 percentile is 2.26606353521347\n",
      "99 percentile is 3.21539656639099\n",
      "***************************************************************\n",
      "evaluting model with 5000 queries and True Card, testing with PG_est Card:\n",
      "Reading hyperparameters from /home/ziniuw/zero-shot-cost-estimation/setup/tuned_hyperparameters/tune_est_best_config.json\n",
      "No of Plans: 1598\n",
      "No of Plans: 1598\n",
      "Successfully loaded checkpoint from epoch 31 (31 csv rows) in 0.062 secs\n",
      "PostgresEstSystemCardDetail\n"
     ]
    },
    {
     "name": "stderr",
     "output_type": "stream",
     "text": [
      "100%|█████████████████████████████████████████████| 7/7 [00:06<00:00,  1.14it/s]\n"
     ]
    },
    {
     "name": "stdout",
     "output_type": "stream",
     "text": [
      "50 percentile is 1.2901920080184937\n",
      "95 percentile is 2.61749804019928\n",
      "99 percentile is 3.9017069578170775\n",
      "***************************************************************\n",
      "evaluting model with 5000 queries and PG est Card, testing with True Card:\n",
      "Reading hyperparameters from /home/ziniuw/zero-shot-cost-estimation/setup/tuned_hyperparameters/tune_best_config.json\n",
      "No of Plans: 1598\n",
      "No of Plans: 1598\n",
      "Successfully loaded checkpoint from epoch 33 (33 csv rows) in 0.060 secs\n",
      "PostgresTrueCardDetail\n"
     ]
    },
    {
     "name": "stderr",
     "output_type": "stream",
     "text": [
      "100%|█████████████████████████████████████████████| 7/7 [00:06<00:00,  1.11it/s]\n"
     ]
    },
    {
     "name": "stdout",
     "output_type": "stream",
     "text": [
      "50 percentile is 1.2263070344924927\n",
      "95 percentile is 2.73681501150131\n",
      "99 percentile is 4.198454952239989\n",
      "***************************************************************\n",
      "evaluting model with 5000 queries and PG est Card, testing with PG_est Card:\n",
      "Reading hyperparameters from /home/ziniuw/zero-shot-cost-estimation/setup/tuned_hyperparameters/tune_est_best_config.json\n",
      "No of Plans: 1598\n",
      "No of Plans: 1598\n",
      "Successfully loaded checkpoint from epoch 33 (33 csv rows) in 0.060 secs\n",
      "PostgresEstSystemCardDetail\n"
     ]
    },
    {
     "name": "stderr",
     "output_type": "stream",
     "text": [
      "100%|█████████████████████████████████████████████| 7/7 [00:06<00:00,  1.06it/s]\n"
     ]
    },
    {
     "name": "stdout",
     "output_type": "stream",
     "text": [
      "50 percentile is 1.2599347829818726\n",
      "95 percentile is 2.8904627561569196\n",
      "99 percentile is 4.346236004829405\n",
      "***************************************************************\n",
      "evaluting model with 10000 queries and True Card, testing with True Card:\n",
      "Reading hyperparameters from /home/ziniuw/zero-shot-cost-estimation/setup/tuned_hyperparameters/tune_best_config.json\n",
      "No of Plans: 1598\n",
      "No of Plans: 1598\n",
      "Successfully loaded checkpoint from epoch 44 (44 csv rows) in 0.059 secs\n",
      "PostgresTrueCardDetail\n"
     ]
    },
    {
     "name": "stderr",
     "output_type": "stream",
     "text": [
      "100%|█████████████████████████████████████████████| 7/7 [00:06<00:00,  1.15it/s]\n"
     ]
    },
    {
     "name": "stdout",
     "output_type": "stream",
     "text": [
      "50 percentile is 1.1568202376365662\n",
      "95 percentile is 2.2308893084526056\n",
      "99 percentile is 3.717849276065826\n",
      "***************************************************************\n",
      "evaluting model with 10000 queries and True Card, testing with PG_est Card:\n",
      "Reading hyperparameters from /home/ziniuw/zero-shot-cost-estimation/setup/tuned_hyperparameters/tune_est_best_config.json\n",
      "No of Plans: 1598\n",
      "No of Plans: 1598\n",
      "Successfully loaded checkpoint from epoch 44 (44 csv rows) in 0.060 secs\n",
      "PostgresEstSystemCardDetail\n"
     ]
    },
    {
     "name": "stderr",
     "output_type": "stream",
     "text": [
      "100%|█████████████████████████████████████████████| 7/7 [00:06<00:00,  1.13it/s]\n"
     ]
    },
    {
     "name": "stdout",
     "output_type": "stream",
     "text": [
      "50 percentile is 1.2381897568702698\n",
      "95 percentile is 2.486023950576782\n",
      "99 percentile is 4.2125396108627315\n",
      "***************************************************************\n",
      "evaluting model with 10000 queries and PG est Card, testing with True Card:\n",
      "Reading hyperparameters from /home/ziniuw/zero-shot-cost-estimation/setup/tuned_hyperparameters/tune_best_config.json\n",
      "No of Plans: 1598\n",
      "No of Plans: 1598\n",
      "Successfully loaded checkpoint from epoch 44 (44 csv rows) in 0.060 secs\n",
      "PostgresTrueCardDetail\n"
     ]
    },
    {
     "name": "stderr",
     "output_type": "stream",
     "text": [
      "100%|█████████████████████████████████████████████| 7/7 [00:06<00:00,  1.11it/s]\n"
     ]
    },
    {
     "name": "stdout",
     "output_type": "stream",
     "text": [
      "50 percentile is 1.1959389448165894\n",
      "95 percentile is 2.6027233123779285\n",
      "99 percentile is 4.3429723167419425\n",
      "***************************************************************\n",
      "evaluting model with 10000 queries and PG est Card, testing with PG_est Card:\n",
      "Reading hyperparameters from /home/ziniuw/zero-shot-cost-estimation/setup/tuned_hyperparameters/tune_est_best_config.json\n",
      "No of Plans: 1598\n",
      "No of Plans: 1598\n",
      "Successfully loaded checkpoint from epoch 44 (44 csv rows) in 0.060 secs\n",
      "PostgresEstSystemCardDetail\n"
     ]
    },
    {
     "name": "stderr",
     "output_type": "stream",
     "text": [
      "100%|█████████████████████████████████████████████| 7/7 [00:06<00:00,  1.15it/s]\n"
     ]
    },
    {
     "name": "stdout",
     "output_type": "stream",
     "text": [
      "50 percentile is 1.2215359807014465\n",
      "95 percentile is 2.6879282712936323\n",
      "99 percentile is 4.434092855453488\n",
      "***************************************************************\n",
      "evaluting model with 50000 queries and True Card, testing with True Card:\n",
      "Reading hyperparameters from /home/ziniuw/zero-shot-cost-estimation/setup/tuned_hyperparameters/tune_best_config.json\n",
      "No of Plans: 1598\n",
      "No of Plans: 1598\n",
      "Successfully loaded checkpoint from epoch 41 (41 csv rows) in 0.059 secs\n",
      "PostgresTrueCardDetail\n"
     ]
    },
    {
     "name": "stderr",
     "output_type": "stream",
     "text": [
      "100%|█████████████████████████████████████████████| 7/7 [00:06<00:00,  1.13it/s]\n"
     ]
    },
    {
     "name": "stdout",
     "output_type": "stream",
     "text": [
      "50 percentile is 1.128510296344757\n",
      "95 percentile is 2.178062438964843\n",
      "99 percentile is 3.050731136798858\n",
      "***************************************************************\n",
      "evaluting model with 50000 queries and True Card, testing with PG_est Card:\n",
      "Reading hyperparameters from /home/ziniuw/zero-shot-cost-estimation/setup/tuned_hyperparameters/tune_est_best_config.json\n",
      "No of Plans: 1598\n",
      "No of Plans: 1598\n",
      "Successfully loaded checkpoint from epoch 41 (41 csv rows) in 0.060 secs\n",
      "PostgresEstSystemCardDetail\n"
     ]
    },
    {
     "name": "stderr",
     "output_type": "stream",
     "text": [
      "100%|█████████████████████████████████████████████| 7/7 [00:05<00:00,  1.21it/s]\n"
     ]
    },
    {
     "name": "stdout",
     "output_type": "stream",
     "text": [
      "50 percentile is 1.2286344766616821\n",
      "95 percentile is 2.4139334797859173\n",
      "99 percentile is 3.462204623222349\n",
      "***************************************************************\n",
      "evaluting model with 50000 queries and PG est Card, testing with True Card:\n",
      "Reading hyperparameters from /home/ziniuw/zero-shot-cost-estimation/setup/tuned_hyperparameters/tune_best_config.json\n",
      "No of Plans: 1598\n",
      "No of Plans: 1598\n",
      "Successfully loaded checkpoint from epoch 43 (43 csv rows) in 0.060 secs\n",
      "PostgresTrueCardDetail\n"
     ]
    },
    {
     "name": "stderr",
     "output_type": "stream",
     "text": [
      "100%|█████████████████████████████████████████████| 7/7 [00:06<00:00,  1.14it/s]\n"
     ]
    },
    {
     "name": "stdout",
     "output_type": "stream",
     "text": [
      "50 percentile is 1.1917029023170471\n",
      "95 percentile is 2.51904032230377\n",
      "99 percentile is 3.9918721365928644\n",
      "***************************************************************\n",
      "evaluting model with 50000 queries and PG est Card, testing with PG_est Card:\n",
      "Reading hyperparameters from /home/ziniuw/zero-shot-cost-estimation/setup/tuned_hyperparameters/tune_est_best_config.json\n",
      "No of Plans: 1598\n",
      "No of Plans: 1598\n",
      "Successfully loaded checkpoint from epoch 43 (43 csv rows) in 0.059 secs\n",
      "PostgresEstSystemCardDetail\n"
     ]
    },
    {
     "name": "stderr",
     "output_type": "stream",
     "text": [
      "100%|█████████████████████████████████████████████| 7/7 [00:06<00:00,  1.11it/s]"
     ]
    },
    {
     "name": "stdout",
     "output_type": "stream",
     "text": [
      "50 percentile is 1.2023996114730835\n",
      "95 percentile is 2.584039223194122\n",
      "99 percentile is 3.9827312779426562\n"
     ]
    },
    {
     "name": "stderr",
     "output_type": "stream",
     "text": [
      "\n"
     ]
    }
   ],
   "source": [
    "num_query_list = [1000, 5000, 10000, 50000]\n",
    "train_with_list = [\"\", \"est_\"]\n",
    "target_dir = \"/home/ziniuw/zero-shot-data/evaluation/job_full_few_shot_tune/\"\n",
    "test_workload_runs = [\"/home/ziniuw/zero-shot-data/runs/MSCN_augmented/imdb_full/complex_queries_testing_2k.json\"]\n",
    "hyperparameter_paths = {\n",
    "    \"True Card\": \"/home/ziniuw/zero-shot-cost-estimation/setup/tuned_hyperparameters/tune_best_config.json\",\n",
    "    \"PG_est Card\": \"/home/ziniuw/zero-shot-cost-estimation/setup/tuned_hyperparameters/tune_est_best_config.json\"\n",
    "}\n",
    "\n",
    "\n",
    "for num_query in num_query_list:\n",
    "    for train_with in train_with_list:\n",
    "        curr_train_script = training_script.format(train_with, num_query, train_with, num_query)\n",
    "        filename_model = f\"imdb_full_{train_with}lmtq_{num_query}\"\n",
    "        if os.path.exists(target_dir + filename_model + \".pt\"):\n",
    "            for test_with in hyperparameter_paths:\n",
    "                hyperparameter_path = hyperparameter_paths[test_with]\n",
    "                print(\"***************************************************************\")\n",
    "                if train_with == \"\":\n",
    "                    train_with_str = \"True Card\"\n",
    "                else:\n",
    "                    train_with_str = \"PG est Card\"\n",
    "                print(f\"evaluting model with {num_query} queries and {train_with_str}, testing with {test_with}:\")\n",
    "                res, true, pred = test_one_model(target_dir, filename_model, hyperparameter_path, test_workload_runs)\n",
    "        else:\n",
    "            print(\"***************************************************************\")\n",
    "            print(f\"Model with {num_query} queries and {train_with} has not yet begin train, train with:\")\n",
    "            print(curr_train_script)\n",
    "    "
   ]
  },
  {
   "cell_type": "code",
   "execution_count": 8,
   "id": "3d4bc60d",
   "metadata": {},
   "outputs": [
    {
     "name": "stdout",
     "output_type": "stream",
     "text": [
      "Reading hyperparameters from /home/ziniuw/zero-shot-cost-estimation/setup/tuned_hyperparameters/tune_best_config.json\n",
      "No of Plans: 1598\n",
      "No of Plans: 1598\n",
      "Successfully loaded checkpoint from epoch 85 (85 csv rows) in 0.975 secs\n",
      "PostgresTrueCardDetail\n"
     ]
    },
    {
     "name": "stderr",
     "output_type": "stream",
     "text": [
      "100%|█████████████████████████████████████████████| 7/7 [01:10<00:00, 10.11s/it]"
     ]
    },
    {
     "name": "stdout",
     "output_type": "stream",
     "text": [
      "50 percentile is 1.2084041833877563\n",
      "95 percentile is 2.442057573795317\n",
      "99 percentile is 3.2894937086105345\n"
     ]
    },
    {
     "name": "stderr",
     "output_type": "stream",
     "text": [
      "\n"
     ]
    }
   ],
   "source": [
    "target_dir = \"/home/ziniuw/zero-shot-data/evaluation/job_full_tune\"\n",
    "filename_model = \"imdb_full_0\"\n",
    "test_workload_runs = [\"/home/ziniuw/zero-shot-data/runs/MSCN_augmented/imdb_full/complex_queries_testing_2k.json\"]\n",
    "hyperparameter_path = \"/home/ziniuw/zero-shot-cost-estimation/setup/tuned_hyperparameters/tune_best_config.json\"\n",
    "res, true, pred = test_one_model(target_dir, filename_model, hyperparameter_path, test_workload_runs)"
   ]
  },
  {
   "cell_type": "code",
   "execution_count": 9,
   "id": "4c9654e3",
   "metadata": {},
   "outputs": [
    {
     "name": "stdout",
     "output_type": "stream",
     "text": [
      "Reading hyperparameters from /home/ziniuw/zero-shot-cost-estimation/setup/tuned_hyperparameters/tune_est_best_config.json\n",
      "No of Plans: 1598\n",
      "No of Plans: 1598\n",
      "Successfully loaded checkpoint from epoch 26 (26 csv rows) in 0.855 secs\n",
      "PostgresEstSystemCardDetail\n"
     ]
    },
    {
     "name": "stderr",
     "output_type": "stream",
     "text": [
      "100%|█████████████████████████████████████████████| 7/7 [01:14<00:00, 10.64s/it]"
     ]
    },
    {
     "name": "stdout",
     "output_type": "stream",
     "text": [
      "50 percentile is 1.3038760423660278\n",
      "95 percentile is 2.7281987428665153\n",
      "99 percentile is 3.827726800441738\n"
     ]
    },
    {
     "name": "stderr",
     "output_type": "stream",
     "text": [
      "\n"
     ]
    }
   ],
   "source": [
    "target_dir = \"/home/ziniuw/zero-shot-data/evaluation/job_full_tune\"\n",
    "filename_model = \"imdb_full_0_pg_est\"\n",
    "test_workload_runs = [\"/home/ziniuw/zero-shot-data/runs/MSCN_augmented/imdb_full/complex_queries_testing_2k.json\"]\n",
    "hyperparameter_path = \"/home/ziniuw/zero-shot-cost-estimation/setup/tuned_hyperparameters/tune_est_best_config.json\"\n",
    "res, true, pred = test_one_model(target_dir, filename_model, hyperparameter_path, test_workload_runs)"
   ]
  },
  {
   "cell_type": "code",
   "execution_count": 11,
   "id": "2cff970e",
   "metadata": {},
   "outputs": [
    {
     "name": "stdout",
     "output_type": "stream",
     "text": [
      "Reading hyperparameters from /home/ziniuw/zero-shot-cost-estimation/setup/tuned_hyperparameters/tune_cc_est_best_config.json\n",
      "No of Plans: 1598\n",
      "No of Plans: 1598\n",
      "Successfully loaded checkpoint from epoch 85 (85 csv rows) in 0.751 secs\n",
      "PostgresCardCorrectorDetail\n"
     ]
    },
    {
     "name": "stderr",
     "output_type": "stream",
     "text": [
      "100%|█████████████████████████████████████████████| 7/7 [01:10<00:00, 10.07s/it]"
     ]
    },
    {
     "name": "stdout",
     "output_type": "stream",
     "text": [
      "50 percentile is 1.3173580765724182\n",
      "95 percentile is 2.923477029800413\n",
      "99 percentile is 4.018758296966553\n"
     ]
    },
    {
     "name": "stderr",
     "output_type": "stream",
     "text": [
      "\n"
     ]
    }
   ],
   "source": [
    "target_dir = \"/home/ziniuw/zero-shot-data/evaluation/job_full_tune\"\n",
    "filename_model = \"imdb_full_0\"\n",
    "test_workload_runs = [\"/home/ziniuw/zero-shot-data/runs/MSCN_augmented/imdb_full/complex_queries_testing_2k.json\"]\n",
    "hyperparameter_path = \"/home/ziniuw/zero-shot-cost-estimation/setup/tuned_hyperparameters/tune_cc_est_best_config.json\"\n",
    "statistics_file=\"/home/ziniuw/zero-shot-data/runs/MSCN_augmented/statistics_workload_combined.json\"\n",
    "res, true, pred = test_one_model(target_dir, filename_model, hyperparameter_path, test_workload_runs, statistics_file)\n"
   ]
  },
  {
   "cell_type": "code",
   "execution_count": 4,
   "id": "8ede336f",
   "metadata": {},
   "outputs": [
    {
     "name": "stdout",
     "output_type": "stream",
     "text": [
      "Reading hyperparameters from /home/ziniuw/zero-shot-cost-estimation/setup/tuned_hyperparameters/tune_tuned_est_best_config.json\n",
      "No of Plans: 1598\n",
      "No of Plans: 1598\n",
      "Successfully loaded checkpoint from epoch 85 (85 csv rows) in 0.785 secs\n",
      "PostgresTunedCardDetail\n"
     ]
    },
    {
     "name": "stderr",
     "output_type": "stream",
     "text": [
      "100%|█████████████████████████████████████████████| 7/7 [01:13<00:00, 10.47s/it]"
     ]
    },
    {
     "name": "stdout",
     "output_type": "stream",
     "text": [
      "50 percentile is 1.242421805858612\n",
      "95 percentile is 2.45614948272705\n",
      "99 percentile is 3.2738616609573357\n"
     ]
    },
    {
     "name": "stderr",
     "output_type": "stream",
     "text": [
      "\n"
     ]
    }
   ],
   "source": [
    "target_dir = \"/home/ziniuw/zero-shot-data/evaluation/job_full_tune\"\n",
    "filename_model = \"imdb_full_0\"\n",
    "test_workload_runs = [\"/home/ziniuw/zero-shot-data/runs/MSCN_augmented/imdb_full/complex_queries_testing_2k_tuned_0.5.json\"]\n",
    "hyperparameter_path = \"/home/ziniuw/zero-shot-cost-estimation/setup/tuned_hyperparameters/tune_tuned_est_best_config.json\"\n",
    "statistics_file=\"/home/ziniuw/zero-shot-data/runs/tuned_augmented/statistics_workload_combined.json\"\n",
    "res, true, pred = test_one_model(target_dir, filename_model, hyperparameter_path, test_workload_runs, statistics_file)\n"
   ]
  },
  {
   "cell_type": "code",
   "execution_count": 10,
   "id": "431edbd1",
   "metadata": {},
   "outputs": [
    {
     "name": "stdout",
     "output_type": "stream",
     "text": [
      "Reading hyperparameters from /home/ziniuw/zero-shot-cost-estimation/setup/tuned_hyperparameters/tune_tuned_est_best_config.json\n",
      "No of Plans: 1598\n",
      "No of Plans: 1598\n",
      "Successfully loaded checkpoint from epoch 85 (85 csv rows) in 1.083 secs\n",
      "PostgresTunedCardDetail\n"
     ]
    },
    {
     "name": "stderr",
     "output_type": "stream",
     "text": [
      "100%|█████████████████████████████████████████████| 7/7 [01:08<00:00,  9.78s/it]"
     ]
    },
    {
     "name": "stdout",
     "output_type": "stream",
     "text": [
      "50 percentile is 3.931230664253235\n",
      "95 percentile is 14.448422193527218\n",
      "99 percentile is 26.595769290924036\n"
     ]
    },
    {
     "name": "stderr",
     "output_type": "stream",
     "text": [
      "\n"
     ]
    }
   ],
   "source": [
    "target_dir = \"/home/ziniuw/zero-shot-data/evaluation/job_full_tune\"\n",
    "filename_model = \"imdb_full_0\"\n",
    "test_workload_runs = [\"/home/ziniuw/zero-shot-data/runs/MSCN_augmented/imdb_full/complex_queries_testing_2k_tuned_-2.json\"]\n",
    "hyperparameter_path = \"/home/ziniuw/zero-shot-cost-estimation/setup/tuned_hyperparameters/tune_tuned_est_best_config.json\"\n",
    "statistics_file=\"/home/ziniuw/zero-shot-data/runs/tuned_augmented/statistics_workload_combined.json\"\n",
    "res, true, pred = test_one_model(target_dir, filename_model, hyperparameter_path, test_workload_runs, statistics_file)\n"
   ]
  },
  {
   "cell_type": "code",
   "execution_count": 14,
   "id": "29b1a8a1",
   "metadata": {},
   "outputs": [
    {
     "data": {
      "image/png": "[encoded data removed]",
      "text/plain": [
       "<Figure size 720x504 with 1 Axes>"
      ]
     },
     "metadata": {
      "needs_background": "light"
     },
     "output_type": "display_data"
    }
   ],
   "source": [
    "x = [10, 1000, 5000, 10000, 50000]\n",
    "true_true = [1.183, 1.183, 1.183, 1.183, 1.183]\n",
    "true_true_ft = [1.183, 1.175, 1.184, 1.190, 1.14]\n",
    "true_est = [1.33, 1.33, 1.33, 1.33, 1.33]\n",
    "true_est_ft = [1.33, 1.29, 1.35, 1.27, 1.28]\n",
    "est_est = [1.37, 1.37, 1.37, 1.37, 1.37]\n",
    "est_est_ft = [1.37, 1.30, 1.25, 1.22, 1.20]\n",
    "\n",
    "\n",
    "\n",
    "plt.figure(figsize=(10,7))\n",
    "plt.plot(x, true_true, color=\"red\")\n",
    "plt.plot(x, true_true_ft, color=\"red\", linestyle='dashed')\n",
    "plt.scatter(x, true_true_ft, color=\"red\", s=50)\n",
    "\n",
    "plt.plot(x, true_est, color=\"orange\")\n",
    "plt.plot(x, true_est_ft, color=\"orange\", linestyle='dashed')\n",
    "plt.scatter(x, true_est_ft, color=\"orange\", s=50)\n",
    "\n",
    "\n",
    "plt.plot(x, est_est, color=\"black\")\n",
    "plt.plot(x, est_est_ft, color=\"black\", linestyle='dashed')\n",
    "plt.scatter(x, est_est_ft, color=\"black\", s=50)\n",
    "\n",
    "plt.ylim(1.10, 1.4)\n",
    "plt.ylabel(\"Median Qerror\", fontsize=20)\n",
    "plt.yticks(fontsize=20)\n",
    "plt.xscale(\"log\")\n",
    "plt.xlabel(\"Number of Training Queries\", fontsize=20)\n",
    "plt.xticks(fontsize=20)\n",
    "plt.grid()\n",
    "plt.savefig(\"jobfull.pdf\")"
   ]
  },
  {
   "cell_type": "code",
   "execution_count": null,
   "id": "48e79752",
   "metadata": {},
   "outputs": [],
   "source": [
    "x = [10, 1000, 5000, 10000, 50000]\n",
    "true_true = [1.183, 1.183, 1.183, 1.183, 1.183]\n",
    "true_true_ft = [1.183, 1.195, 1.184, 1.190, 1.14]\n",
    "true_est = [1.33, 1.33, 1.33, 1.33, 1.33]\n",
    "true_est_ft = [1.33, 1.29, 1.35, 1.27, 1.28]\n",
    "est_est = [1.37, 1.37, 1.37, 1.37, 1.37]\n",
    "est_est_ft = [1.37, 1.30, 1.25, 1.22, 1.20]\n",
    "\n",
    "\n",
    "\n",
    "plt.figure(figsize=(10,7))\n",
    "plt.plot(x, true_true, color=\"red\")\n",
    "plt.plot(x, true_true_ft, color=\"red\", linestyle='dashed')\n",
    "plt.scatter(x, true_true_ft, color=\"red\", s=50)\n",
    "\n",
    "\n",
    "plt.plot(x, est_est, color=\"black\")\n",
    "plt.plot(x, est_est_ft, color=\"black\", linestyle='dashed')\n",
    "plt.scatter(x, est_est_ft, color=\"black\", s=50)\n",
    "\n",
    "plt.ylim(1.10, 1.4)\n",
    "plt.ylabel(\"Median Qerror\", fontsize=20)\n",
    "plt.yticks(fontsize=20)\n",
    "plt.xscale(\"log\")\n",
    "plt.xlabel(\"Number of Training Queries\", fontsize=20)\n",
    "plt.xticks(fontsize=20)\n",
    "plt.grid()\n",
    "plt.savefig(\"jobfull.pdf\")"
   ]
  },
  {
   "cell_type": "code",
   "execution_count": null,
   "id": "5e313b62",
   "metadata": {},
   "outputs": [],
   "source": []
  }
 ],
 "metadata": {
  "kernelspec": {
   "display_name": "Python 3 (ipykernel)",
   "language": "python",
   "name": "python3"
  },
  "language_info": {
   "codemirror_mode": {
    "name": "ipython",
    "version": 3
   },
   "file_extension": ".py",
   "mimetype": "text/x-python",
   "name": "python",
   "nbconvert_exporter": "python",
   "pygments_lexer": "ipython3",
   "version": "3.9.12"
  }
 },
 "nbformat": 4,
 "nbformat_minor": 5
}
