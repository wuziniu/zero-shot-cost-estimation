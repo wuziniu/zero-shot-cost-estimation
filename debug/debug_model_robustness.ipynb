{
 "cells": [
  {
   "cell_type": "code",
   "execution_count": 2,
   "id": "a56efe81",
   "metadata": {},
   "outputs": [
    {
     "name": "stderr",
     "output_type": "stream",
     "text": [
      "Using backend: pytorch\n"
     ]
    }
   ],
   "source": [
    "import os\n",
    "import sys\n",
    "import time\n",
    "import json\n",
    "import matplotlib.pyplot as plt\n",
    "sys.path.append(\"/home/ziniuw/zero-shot-cost-estimation\")\n",
    "from models.zero_shot_models.specific_models.model import zero_shot_models\n",
    "from cross_db_benchmark.benchmark_tools.database import DatabaseSystem\n",
    "from models.training.train import train_default, train_readout_hyperparams"
   ]
  },
  {
   "cell_type": "code",
   "execution_count": 7,
   "id": "7c2bf0e9",
   "metadata": {},
   "outputs": [],
   "source": [
    "import json\n",
    "from cross_db_benchmark.benchmark_tools.utils import load_json\n",
    "\n",
    "\n",
    "def add_num_tables(src_workloads):\n",
    "    for src in src_workloads:\n",
    "        try:\n",
    "            run = load_json(src, namespace=False)\n",
    "        except JSONDecodeError:\n",
    "            raise ValueError(f\"Error reading {src}\")\n",
    "\n",
    "        all_num_tables = []\n",
    "        for q_id, p in enumerate(run[\"parsed_plans\"]):\n",
    "            tables = get_tables(p)\n",
    "            assert len(tables) != 0\n",
    "            p[\"num_tables\"] = len(tables)\n",
    "            all_num_tables.append(len(tables))\n",
    "\n",
    "        with open(src, 'w') as outfile:\n",
    "            json.dump(run, outfile)\n",
    "        print(f\"done adding num_tables for {src}, with max num_table {max(all_num_tables)} min {min(all_num_tables)}\")\n",
    "\n",
    "\n",
    "def get_tables(plan):\n",
    "    tables = set()\n",
    "    if 'table' in plan[\"plan_parameters\"]:\n",
    "        tables.add(plan[\"plan_parameters\"]['table'])\n",
    "\n",
    "    for c in plan[\"children\"]:\n",
    "        c_tables = get_tables(c)\n",
    "        tables.update(c_tables)\n",
    "\n",
    "    return tables"
   ]
  },
  {
   "cell_type": "code",
   "execution_count": 14,
   "id": "33a08508",
   "metadata": {},
   "outputs": [
    {
     "name": "stdout",
     "output_type": "stream",
     "text": [
      "done adding num_tables for /flash1/ziniuw/zero-shot-data/runs/parsed_plans/imdb_full/complex_workload_400k_s4_c8220.json, with max num_table 5 min 1\n"
     ]
    }
   ],
   "source": [
    "workload_runs = [\"../zero-shot-data/runs/parsed_plans/airline/complex_workload_200k_s1_c8220.json\", \n",
    "                      \"../zero-shot-data/runs/parsed_plans/airline/workload_100k_s1_c8220.json\", \n",
    "                      \"../zero-shot-data/runs/parsed_plans/ssb/complex_workload_200k_s1_c8220.json\", \n",
    "                      \"../zero-shot-data/runs/parsed_plans/ssb/workload_100k_s1_c8220.json\", \n",
    "                      \"../zero-shot-data/runs/parsed_plans/tpc_h/complex_workload_200k_s1_c8220.json\",  \n",
    "                      \"../zero-shot-data/runs/parsed_plans/walmart/complex_workload_200k_s1_c8220.json\", \n",
    "                      \"../zero-shot-data/runs/parsed_plans/walmart/workload_100k_s1_c8220.json\", \n",
    "                      \"../zero-shot-data/runs/parsed_plans/financial/complex_workload_200k_s1_c8220.json\", \n",
    "                      \"../zero-shot-data/runs/parsed_plans/financial/workload_100k_s1_c8220.json\", \n",
    "                      \"../zero-shot-data/runs/parsed_plans/basketball/complex_workload_200k_s1_c8220.json\", \n",
    "                      \"../zero-shot-data/runs/parsed_plans/basketball/workload_100k_s1_c8220.json\", \n",
    "                      \"../zero-shot-data/runs/parsed_plans/accidents/complex_workload_200k_s1_c8220.json\", \n",
    "                      \"../zero-shot-data/runs/parsed_plans/accidents/workload_100k_s1_c8220.json\", \n",
    "                      \"../zero-shot-data/runs/parsed_plans/movielens/complex_workload_200k_s1_c8220.json\", \n",
    "                      \"../zero-shot-data/runs/parsed_plans/movielens/workload_100k_s1_c8220.json\", \n",
    "                      \"../zero-shot-data/runs/parsed_plans/baseball/complex_workload_200k_s1_c8220.json\", \n",
    "                      \"../zero-shot-data/runs/parsed_plans/baseball/workload_100k_s1_c8220.json\", \n",
    "                      \"../zero-shot-data/runs/parsed_plans/hepatitis/complex_workload_200k_s1_c8220.json\", \n",
    "                      \"../zero-shot-data/runs/parsed_plans/hepatitis/workload_100k_s1_c8220.json\", \n",
    "                      \"../zero-shot-data/runs/parsed_plans/tournament/complex_workload_200k_s1_c8220.json\", \n",
    "                      \"../zero-shot-data/runs/parsed_plans/tournament/workload_100k_s1_c8220.json\", \n",
    "                      \"../zero-shot-data/runs/parsed_plans/credit/complex_workload_200k_s1_c8220.json\", \n",
    "                      \"../zero-shot-data/runs/parsed_plans/credit/workload_100k_s1_c8220.json\", \n",
    "                      \"../zero-shot-data/runs/parsed_plans/employee/complex_workload_200k_s1_c8220.json\", \n",
    "                      \"../zero-shot-data/runs/parsed_plans/employee/workload_100k_s1_c8220.json\", \n",
    "                      \"../zero-shot-data/runs/parsed_plans/consumer/complex_workload_200k_s1_c8220.json\", \n",
    "                      \"../zero-shot-data/runs/parsed_plans/consumer/workload_100k_s1_c8220.json\", \n",
    "                      \"../zero-shot-data/runs/parsed_plans/geneea/complex_workload_200k_s1_c8220.json\", \n",
    "                      \"../zero-shot-data/runs/parsed_plans/geneea/workload_100k_s1_c8220.json\", \n",
    "                      \"../zero-shot-data/runs/parsed_plans/genome/complex_workload_200k_s1_c8220.json\", \n",
    "                      \"../zero-shot-data/runs/parsed_plans/genome/workload_100k_s1_c8220.json\", \n",
    "                      \"../zero-shot-data/runs/parsed_plans/carcinogenesis/complex_workload_200k_s1_c8220.json\", \n",
    "                      \"../zero-shot-data/runs/parsed_plans/carcinogenesis/workload_100k_s1_c8220.json\", \n",
    "                      \"../zero-shot-data/runs/parsed_plans/seznam/complex_workload_200k_s1_c8220.json\", \n",
    "                      \"../zero-shot-data/runs/parsed_plans/seznam/workload_100k_s1_c8220.json\", \n",
    "                      \"../zero-shot-data/runs/parsed_plans/fhnk/complex_workload_200k_s1_c8220.json\", \n",
    "                      \"../zero-shot-data/runs/parsed_plans/fhnk/workload_100k_s1_c8220.json\",\n",
    "                \"../zero-shot-data/runs/parsed_plans/imdb_full/complex_workload_400k_s4_c8220.json\",\n",
    "                \"../zero-shot-data/runs/parsed_plans/imdb_full/complex_workload_400k_s5_c8220.json\",\n",
    "                \"../zero-shot-data/runs/parsed_plans/imdb_full/complex_workload_400k_s6_c8220.json\",\n",
    "                \"../zero-shot-data/runs/parsed_plans/imdb_full/complex_queries_training_50k.json\",\n",
    "                \"../zero-shot-data/runs/parsed_plans/imdb_full/job_full_c8220.json\",\n",
    "                \"../zero-shot-data/runs/parsed_plans/MSCN_augmented/complex_queries_testing_2k.json\",\n",
    "                \"../zero-shot-data/runs/parsed_plans/MSCN_augmented/complex_queries_testing_2k_tuned_0.5.json\",\n",
    "                \"../zero-shot-data/runs/parsed_plans/MSCN_augmented/complex_queries_testing_2k_tuned_0.9.json\",]\n",
    "add_num_tables(workload_runs)"
   ]
  },
  {
   "cell_type": "code",
   "execution_count": null,
   "id": "dc025b87",
   "metadata": {},
   "outputs": [],
   "source": []
  }
 ],
 "metadata": {
  "kernelspec": {
   "display_name": "Python 3 (ipykernel)",
   "language": "python",
   "name": "python3"
  },
  "language_info": {
   "codemirror_mode": {
    "name": "ipython",
    "version": 3
   },
   "file_extension": ".py",
   "mimetype": "text/x-python",
   "name": "python",
   "nbconvert_exporter": "python",
   "pygments_lexer": "ipython3",
   "version": "3.9.12"
  }
 },
 "nbformat": 4,
 "nbformat_minor": 5
}
